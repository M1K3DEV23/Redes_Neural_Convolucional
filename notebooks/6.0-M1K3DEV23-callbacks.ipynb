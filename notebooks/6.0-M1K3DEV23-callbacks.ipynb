{
 "cells": [
  {
   "cell_type": "markdown",
   "metadata": {},
   "source": [
    "# Creando la primera red convolucional - Callbacks: early stopping y checkpoints\n"
   ]
  },
  {
   "cell_type": "code",
   "execution_count": 3,
   "metadata": {},
   "outputs": [],
   "source": [
    "%load_ext autoreload\n",
    "%autoreload 1"
   ]
  },
  {
   "cell_type": "code",
   "execution_count": 4,
   "metadata": {},
   "outputs": [],
   "source": [
    "import os\n",
    "import sys\n",
    "\n",
    "sys.path.append(os.path.dirname(os.path.abspath(os.path.abspath(\"\"))))"
   ]
  },
  {
   "cell_type": "code",
   "execution_count": 5,
   "metadata": {},
   "outputs": [],
   "source": [
    "os.environ[\"TF_CPP_MIN_LOG_LEVEL\"] = \"3\"\n",
    "\n",
    "\n",
    "import matplotlib.pyplot as plt\n",
    "import numpy as np\n",
    "from keras import Sequential\n",
    "from keras.datasets import fashion_mnist\n",
    "from keras.layers import Conv2D, Dense, Dropout, Flatten, MaxPool2D\n",
    "from keras.losses import SparseCategoricalCrossentropy\n",
    "from keras.utils import to_categorical"
   ]
  },
  {
   "cell_type": "markdown",
   "metadata": {},
   "source": [
    "Nuestro trabajo de esta sección consiste en resolver un problema de clasificación multiple. Poder clasificar entre 10 tipos de prenda de vestir. Para ello vamos a utilizar el dataset [Fashion MNIST](https://keras.io/api/datasets/fashion_mnist/)\n",
    "\n",
    "El cual cuenta con 60,000 imágenes de 28x28 píxeles en escala de grises. Adicionalmente, cuenta con un set de prueba de 10,000 imágenes con las mismas características que el set de entrenamiento.\n",
    "\n",
    "Las clases disponibles son:\n",
    "\n",
    "| Label |   Description   |\n",
    "| :---: | :-------------: |\n",
    "|   0   | **T-shirt/top** |\n",
    "|   1   |   **Trouser**   |\n",
    "|   2   |  **Pullover**   |\n",
    "|   3   |    **Dress**    |\n",
    "|   4   |    **Coat**     |\n",
    "|   5   |   **Sandal**    |\n",
    "|   6   |    **Shirt**    |\n",
    "|   7   |   **Sneaker**   |\n",
    "|   8   |     **Bag**     |\n",
    "|   9   | **Ankle boot**  |\n"
   ]
  },
  {
   "cell_type": "code",
   "execution_count": 4,
   "metadata": {},
   "outputs": [],
   "source": [
    "(train_images, train_labels), (test_images, test_labels) = fashion_mnist.load_data()"
   ]
  },
  {
   "cell_type": "code",
   "execution_count": 5,
   "metadata": {},
   "outputs": [
    {
     "name": "stdout",
     "output_type": "stream",
     "text": [
      "60000 imagenes de 28x28 pixeles\n"
     ]
    }
   ],
   "source": [
    "# 60_000 imagenes de 28x28 pixeles\n",
    "print(\n",
    "    f\"{train_images.shape[0]} imagenes de {train_images.shape[1]}x{train_images.shape[2]} pixeles\"\n",
    ")\n",
    "# train_images.shape"
   ]
  },
  {
   "cell_type": "code",
   "execution_count": 6,
   "metadata": {},
   "outputs": [
    {
     "data": {
      "image/png": "[encoded data removed]",
      "text/plain": [
       "<Figure size 640x480 with 1 Axes>"
      ]
     },
     "metadata": {},
     "output_type": "display_data"
    }
   ],
   "source": [
    "plt.imshow(train_images[2])\n",
    "plt.show()"
   ]
  },
  {
   "cell_type": "markdown",
   "metadata": {},
   "source": [
    "Normalizando datos\n"
   ]
  },
  {
   "cell_type": "code",
   "execution_count": 7,
   "metadata": {},
   "outputs": [],
   "source": [
    "# Normalizando datos\n",
    "train_images = train_images.astype(\"float32\") / 255\n",
    "test_images = test_images.astype(\"float32\") / 255"
   ]
  },
  {
   "cell_type": "markdown",
   "metadata": {},
   "source": [
    "A diferencia de las redes neuronales normales, dónde la entrada debía ser un vector de 1 dim\n",
    "en las CNN la entrada es una matriz, es por eso que en el reshape debemos tomar en cuenta\n",
    "[[]].reshape(n, x, y, c)\n",
    "\n",
    "n, x, y, c ->\n",
    "n = número de imágenes,\n",
    "x = ancho de la imagen,\n",
    "y = largo de la imagen,\n",
    "c = número de canales.\n",
    "\n",
    "Dado que nuestras imágenes están en escala de grises, entonces el número de canales que maneja es 1.\n"
   ]
  },
  {
   "cell_type": "code",
   "execution_count": 8,
   "metadata": {},
   "outputs": [],
   "source": [
    "train_images = train_images.reshape(train_images.shape[0], 28, 28, 1)\n",
    "test_images = test_images.reshape(test_images.shape[0], 28, 28, 1)"
   ]
  },
  {
   "cell_type": "markdown",
   "metadata": {},
   "source": [
    "Transformando números del 0 al 9 (10 clases) en su One Hot Encoding\n"
   ]
  },
  {
   "cell_type": "code",
   "execution_count": 9,
   "metadata": {},
   "outputs": [],
   "source": [
    "train_labels_categorical = to_categorical(train_labels, 10)\n",
    "test_labels_categorical = to_categorical(test_labels, 10)"
   ]
  },
  {
   "cell_type": "markdown",
   "metadata": {},
   "source": [
    "**NOTA:** Cabe destacar que por ser una CNN NO fue necesario usar un vector 1d para esta arquitectura.\n"
   ]
  },
  {
   "cell_type": "markdown",
   "metadata": {},
   "source": [
    "Definimos la arquictecura\n"
   ]
  },
  {
   "cell_type": "code",
   "execution_count": 10,
   "metadata": {},
   "outputs": [],
   "source": [
    "def architecture(model_: Sequential):\n",
    "    model_.add(\n",
    "        Conv2D(\n",
    "            filters=64,\n",
    "            kernel_size=2,\n",
    "            padding=\"same\",\n",
    "            activation=\"relu\",\n",
    "            input_shape=(28, 28, 1),\n",
    "        )\n",
    "    )\n",
    "    model_.add(MaxPool2D(pool_size=2))\n",
    "    # Reduce el overfitting\n",
    "    model_.add(Dropout(0.30))\n",
    "    # Apilar capas\n",
    "    model_.add(Conv2D(filters=32, kernel_size=2, padding=\"same\", activation=\"relu\"))\n",
    "    model_.add(MaxPool2D(pool_size=2))\n",
    "    model_.add(Dropout(0.30))\n",
    "    # Esta capa sirve para aplanar y pasar de redes convolucionales a normales\n",
    "    model_.add(Flatten())\n",
    "    model_.add(Dense(256, activation=\"relu\"))\n",
    "    model_.add(Dropout(0.5))\n",
    "    # Como es un problema de clasificación multilabel usamos softmax como activacion de la lutima capa\n",
    "    model_.add(Dense(10, activation=\"softmax\"))\n",
    "    print(model_.summary())\n",
    "    # Compilacion del modelo con la informacio\n",
    "    model_.compile(\n",
    "        loss=\"categorical_crossentropy\", optimizer=\"rmsprop\", metrics=\"accuracy\"\n",
    "    )\n",
    "    return model_"
   ]
  },
  {
   "cell_type": "markdown",
   "metadata": {},
   "source": [
    "## Entrenando nuestra primera red convolucional\n"
   ]
  },
  {
   "cell_type": "code",
   "execution_count": 11,
   "metadata": {},
   "outputs": [],
   "source": [
    "def plot_results(history_, metric):\n",
    "    history_dict = history_.history\n",
    "    loss_values = history_dict[\"loss\"]\n",
    "    val_loss_values = history_dict[\"val_loss\"]\n",
    "    metric_values = history_dict[metric]\n",
    "    val_metric_values = history_dict[f\"val_{metric}\"]\n",
    "    epoch = range(1, len(loss_values) + 1)\n",
    "    fig, ax = plt.subplots(1, 2, figsize=(8, 5))\n",
    "    fig.suptitle(\"Neural Network's Result\")\n",
    "    ax[0].set_title(\"Loss function over epochs\")\n",
    "    ax[1].set_title(f\"{metric} over epoch\")\n",
    "    ax[0].set(ylabel=\"loss\", xlabel=\"epoch\")\n",
    "    ax[1].set(ylabel=metric, xlabel=\"epoch\")\n",
    "\n",
    "    ax[0].plot(epoch, loss_values, \"o-r\", label=\"training\")\n",
    "    ax[0].plot(epoch, val_loss_values, \"--\", label=\"validation\")\n",
    "    ax[1].plot(epoch, metric_values, \"o-r\", label=\"training\")\n",
    "    ax[1].plot(epoch, val_metric_values, \"--\", label=\"validation\")\n",
    "    ax[0].legend()\n",
    "    ax[1].legend()\n",
    "    plt.show()"
   ]
  },
  {
   "cell_type": "markdown",
   "metadata": {},
   "source": [
    "## Entrenando el modelo\n"
   ]
  },
  {
   "cell_type": "code",
   "execution_count": 12,
   "metadata": {},
   "outputs": [
    {
     "name": "stdout",
     "output_type": "stream",
     "text": [
      "WARNING:tensorflow:From c:\\Users\\mike\\Desktop\\redes_convolucionales\\venv\\Lib\\site-packages\\keras\\src\\backend.py:873: The name tf.get_default_graph is deprecated. Please use tf.compat.v1.get_default_graph instead.\n",
      "\n"
     ]
    },
    {
     "name": "stdout",
     "output_type": "stream",
     "text": [
      "WARNING:tensorflow:From c:\\Users\\mike\\Desktop\\redes_convolucionales\\venv\\Lib\\site-packages\\keras\\src\\layers\\pooling\\max_pooling2d.py:161: The name tf.nn.max_pool is deprecated. Please use tf.nn.max_pool2d instead.\n",
      "\n",
      "Model: \"sequential\"\n",
      "_________________________________________________________________\n",
      " Layer (type)                Output Shape              Param #   \n",
      "=================================================================\n",
      " conv2d (Conv2D)             (None, 28, 28, 64)        320       \n",
      "                                                                 \n",
      " max_pooling2d (MaxPooling2  (None, 14, 14, 64)        0         \n",
      " D)                                                              \n",
      "                                                                 \n",
      " dropout (Dropout)           (None, 14, 14, 64)        0         \n",
      "                                                                 \n",
      " conv2d_1 (Conv2D)           (None, 14, 14, 32)        8224      \n",
      "                                                                 \n",
      " max_pooling2d_1 (MaxPoolin  (None, 7, 7, 32)          0         \n",
      " g2D)                                                            \n",
      "                                                                 \n",
      " dropout_1 (Dropout)         (None, 7, 7, 32)          0         \n",
      "                                                                 \n",
      " flatten (Flatten)           (None, 1568)              0         \n",
      "                                                                 \n",
      " dense (Dense)               (None, 256)               401664    \n",
      "                                                                 \n",
      " dropout_2 (Dropout)         (None, 256)               0         \n",
      "                                                                 \n",
      " dense_1 (Dense)             (None, 10)                2570      \n",
      "                                                                 \n",
      "=================================================================\n",
      "Total params: 412778 (1.57 MB)\n",
      "Trainable params: 412778 (1.57 MB)\n",
      "Non-trainable params: 0 (0.00 Byte)\n",
      "_________________________________________________________________\n",
      "None\n",
      "WARNING:tensorflow:From c:\\Users\\mike\\Desktop\\redes_convolucionales\\venv\\Lib\\site-packages\\keras\\src\\optimizers\\__init__.py:309: The name tf.train.Optimizer is deprecated. Please use tf.compat.v1.train.Optimizer instead.\n",
      "\n",
      "Epoch 1/10\n",
      "WARNING:tensorflow:From c:\\Users\\mike\\Desktop\\redes_convolucionales\\venv\\Lib\\site-packages\\keras\\src\\utils\\tf_utils.py:492: The name tf.ragged.RaggedTensorValue is deprecated. Please use tf.compat.v1.ragged.RaggedTensorValue instead.\n",
      "\n",
      "WARNING:tensorflow:From c:\\Users\\mike\\Desktop\\redes_convolucionales\\venv\\Lib\\site-packages\\keras\\src\\engine\\base_layer_utils.py:384: The name tf.executing_eagerly_outside_functions is deprecated. Please use tf.compat.v1.executing_eagerly_outside_functions instead.\n",
      "\n",
      "657/657 [==============================] - 9s 12ms/step - loss: 0.6309 - accuracy: 0.7696 - val_loss: 0.4133 - val_accuracy: 0.8522\n",
      "Epoch 2/10\n",
      "657/657 [==============================] - 8s 12ms/step - loss: 0.4264 - accuracy: 0.8477 - val_loss: 0.3513 - val_accuracy: 0.8732\n",
      "Epoch 3/10\n",
      "657/657 [==============================] - 8s 12ms/step - loss: 0.3840 - accuracy: 0.8624 - val_loss: 0.3464 - val_accuracy: 0.8742\n",
      "Epoch 4/10\n",
      "657/657 [==============================] - 8s 12ms/step - loss: 0.3537 - accuracy: 0.8739 - val_loss: 0.2968 - val_accuracy: 0.8914\n",
      "Epoch 5/10\n",
      "657/657 [==============================] - 8s 13ms/step - loss: 0.3370 - accuracy: 0.8781 - val_loss: 0.2950 - val_accuracy: 0.8933\n",
      "Epoch 6/10\n",
      "657/657 [==============================] - 8s 12ms/step - loss: 0.3230 - accuracy: 0.8839 - val_loss: 0.2944 - val_accuracy: 0.8914\n",
      "Epoch 7/10\n",
      "657/657 [==============================] - 8s 12ms/step - loss: 0.3139 - accuracy: 0.8865 - val_loss: 0.2714 - val_accuracy: 0.9004\n",
      "Epoch 8/10\n",
      "657/657 [==============================] - 8s 12ms/step - loss: 0.3093 - accuracy: 0.8901 - val_loss: 0.2702 - val_accuracy: 0.9029\n",
      "Epoch 9/10\n",
      "657/657 [==============================] - 8s 12ms/step - loss: 0.3044 - accuracy: 0.8911 - val_loss: 0.2641 - val_accuracy: 0.9040\n",
      "Epoch 10/10\n",
      "657/657 [==============================] - 8s 12ms/step - loss: 0.2941 - accuracy: 0.8943 - val_loss: 0.2675 - val_accuracy: 0.9051\n"
     ]
    }
   ],
   "source": [
    "model = Sequential()\n",
    "model = architecture(model)\n",
    "history = model.fit(\n",
    "    train_images,\n",
    "    train_labels_categorical,\n",
    "    batch_size=64,\n",
    "    epochs=10,\n",
    "    validation_split=0.3,\n",
    ")"
   ]
  },
  {
   "cell_type": "markdown",
   "metadata": {},
   "source": [
    "## Análisis de resultados\n"
   ]
  },
  {
   "cell_type": "code",
   "execution_count": 13,
   "metadata": {},
   "outputs": [
    {
     "name": "stdout",
     "output_type": "stream",
     "text": [
      "313/313 [==============================] - 1s 2ms/step - loss: 0.2813 - accuracy: 0.8962\n",
      "[0.2812596261501312, 0.8962000012397766]\n"
     ]
    }
   ],
   "source": [
    "score = model.evaluate(test_images, test_labels_categorical)\n",
    "print(score)"
   ]
  },
  {
   "cell_type": "code",
   "execution_count": 14,
   "metadata": {},
   "outputs": [
    {
     "data": {
      "image/png": "[encoded data removed]",
      "text/plain": [
       "<Figure size 800x500 with 2 Axes>"
      ]
     },
     "metadata": {},
     "output_type": "display_data"
    }
   ],
   "source": [
    "plot_results(history, \"accuracy\")"
   ]
  },
  {
   "cell_type": "markdown",
   "metadata": {},
   "source": [
    "## BONUS: Una forma alternativa de resolución del problema.\n",
    "\n",
    "Para esta forma alternativa, vamos a modificar la arquitectura del modelo levemente, en esta ocasión vamos a utilizar como función de perdida SparseCategoricalCrossentropy está nos va a permitir trabajar directamente con los valores originales de los labels, train_labels, test_labels sin necesidad de pasarlos por la función to_categorical adicionalmente, nos permitirá NO usar la función softmax que hemos utilizado siempre en problemas de clasificación multiple.\n"
   ]
  },
  {
   "cell_type": "markdown",
   "metadata": {},
   "source": [
    "Nueva arquitectura:\n"
   ]
  },
  {
   "cell_type": "code",
   "execution_count": 15,
   "metadata": {},
   "outputs": [],
   "source": [
    "def architecture_sparse(model_: Sequential):\n",
    "\n",
    "    model_.add(\n",
    "        Conv2D(\n",
    "            filters=64,\n",
    "            kernel_size=2,\n",
    "            padding=\"same\",\n",
    "            activation=\"relu\",\n",
    "            input_shape=(28, 28, 1),\n",
    "        )\n",
    "    )\n",
    "    model_.add(MaxPool2D(pool_size=2))\n",
    "    model_.add(Dropout(0.3))\n",
    "    model_.add(Conv2D(filters=32, kernel_size=2, padding=\"same\", activation=\"relu\"))\n",
    "    model_.add(MaxPool2D(pool_size=2))\n",
    "    model_.add(Dropout(0.3))\n",
    "    model_.add(Flatten())\n",
    "    model_.add(Dense(256, activation=\"relu\"))\n",
    "    model_.add(Dropout(0.5))\n",
    "    # Utilizando como perdida la SparceCategoricalCrossentropy\n",
    "    model_.add(Dense(10))\n",
    "    print(model_.summary())\n",
    "    model_.compile(\n",
    "        loss=SparseCategoricalCrossentropy(from_logits=True),\n",
    "        optimizer=\"rmsprop\",\n",
    "        metrics=\"accuracy\",\n",
    "    )\n",
    "    return model_"
   ]
  },
  {
   "cell_type": "markdown",
   "metadata": {},
   "source": [
    "Entrenamos nuestro nuevo modelo:\n"
   ]
  },
  {
   "cell_type": "code",
   "execution_count": 16,
   "metadata": {},
   "outputs": [
    {
     "name": "stdout",
     "output_type": "stream",
     "text": [
      "Model: \"sequential_1\"\n",
      "_________________________________________________________________\n",
      " Layer (type)                Output Shape              Param #   \n",
      "=================================================================\n",
      " conv2d_2 (Conv2D)           (None, 28, 28, 64)        320       \n",
      "                                                                 \n",
      " max_pooling2d_2 (MaxPoolin  (None, 14, 14, 64)        0         \n",
      " g2D)                                                            \n",
      "                                                                 \n",
      " dropout_3 (Dropout)         (None, 14, 14, 64)        0         \n",
      "                                                                 \n",
      " conv2d_3 (Conv2D)           (None, 14, 14, 32)        8224      \n",
      "                                                                 \n",
      " max_pooling2d_3 (MaxPoolin  (None, 7, 7, 32)          0         \n",
      " g2D)                                                            \n",
      "                                                                 \n",
      " dropout_4 (Dropout)         (None, 7, 7, 32)          0         \n",
      "                                                                 \n",
      " flatten_1 (Flatten)         (None, 1568)              0         \n",
      "                                                                 \n",
      " dense_2 (Dense)             (None, 256)               401664    \n",
      "                                                                 \n",
      " dropout_5 (Dropout)         (None, 256)               0         \n",
      "                                                                 \n",
      " dense_3 (Dense)             (None, 10)                2570      \n",
      "                                                                 \n",
      "=================================================================\n",
      "Total params: 412778 (1.57 MB)\n",
      "Trainable params: 412778 (1.57 MB)\n",
      "Non-trainable params: 0 (0.00 Byte)\n",
      "_________________________________________________________________\n",
      "None\n",
      "Epoch 1/10\n",
      "657/657 [==============================] - 8s 12ms/step - loss: 0.6315 - accuracy: 0.7680 - val_loss: 0.4105 - val_accuracy: 0.8503\n",
      "Epoch 2/10\n",
      "657/657 [==============================] - 8s 12ms/step - loss: 0.4283 - accuracy: 0.8461 - val_loss: 0.3610 - val_accuracy: 0.8676\n",
      "Epoch 3/10\n",
      "657/657 [==============================] - 8s 12ms/step - loss: 0.3868 - accuracy: 0.8610 - val_loss: 0.3180 - val_accuracy: 0.8846\n",
      "Epoch 4/10\n",
      "657/657 [==============================] - 8s 12ms/step - loss: 0.3585 - accuracy: 0.8717 - val_loss: 0.3046 - val_accuracy: 0.8892\n",
      "Epoch 5/10\n",
      "657/657 [==============================] - 8s 12ms/step - loss: 0.3410 - accuracy: 0.8762 - val_loss: 0.2999 - val_accuracy: 0.8918\n",
      "Epoch 6/10\n",
      "657/657 [==============================] - 8s 12ms/step - loss: 0.3283 - accuracy: 0.8820 - val_loss: 0.2829 - val_accuracy: 0.8986\n",
      "Epoch 7/10\n",
      "657/657 [==============================] - 8s 12ms/step - loss: 0.3157 - accuracy: 0.8876 - val_loss: 0.2802 - val_accuracy: 0.9001\n",
      "Epoch 8/10\n",
      "657/657 [==============================] - 8s 12ms/step - loss: 0.3075 - accuracy: 0.8898 - val_loss: 0.2769 - val_accuracy: 0.8994\n",
      "Epoch 9/10\n",
      "657/657 [==============================] - 8s 12ms/step - loss: 0.3053 - accuracy: 0.8904 - val_loss: 0.2604 - val_accuracy: 0.9084\n",
      "Epoch 10/10\n",
      "657/657 [==============================] - 8s 12ms/step - loss: 0.2973 - accuracy: 0.8937 - val_loss: 0.2726 - val_accuracy: 0.9014\n"
     ]
    }
   ],
   "source": [
    "model_sparse = Sequential()\n",
    "model_sparse = architecture_sparse(model_sparse)\n",
    "# Este tipo de modelo NO exige usar las encadenadas de capas como categoricas, por eso puedo usar las train_labels normal.\n",
    "history = model_sparse.fit(\n",
    "    train_images, train_labels, batch_size=64, epochs=10, validation_split=0.3\n",
    ")"
   ]
  },
  {
   "cell_type": "code",
   "execution_count": 17,
   "metadata": {},
   "outputs": [
    {
     "name": "stdout",
     "output_type": "stream",
     "text": [
      "313/313 [==============================] - 1s 2ms/step - loss: 0.2862 - accuracy: 0.8949\n",
      "[0.2861770689487457, 0.8949000239372253]\n"
     ]
    }
   ],
   "source": [
    "score_sparse = model_sparse.evaluate(test_images, test_labels)\n",
    "print(score_sparse)"
   ]
  },
  {
   "cell_type": "code",
   "execution_count": 18,
   "metadata": {},
   "outputs": [
    {
     "data": {
      "image/png": "[encoded data removed]",
      "text/plain": [
       "<Figure size 800x500 with 2 Axes>"
      ]
     },
     "metadata": {},
     "output_type": "display_data"
    }
   ],
   "source": [
    "plot_results(history, \"accuracy\")"
   ]
  },
  {
   "cell_type": "markdown",
   "metadata": {},
   "source": [
    "# Callbacks: early stopping y checkpoints\n",
    "\n",
    "Los `Callbacks` son una herramienta sumamente poderosa que nos permite monitorear el entrenamiento de nuestras redes neuronales tienen varias funcionalidades, sin embargo, en este ejemplo hablaremos de 2 de las más utilizadas:\n",
    "\n",
    "1. Early stopping: Detener el proceso de entrenamiento cuando este deja de optimizar.\n",
    "\n",
    "2. Checkpoints: Permite guardar el estado de un modelo mientras está siendo entrenado.\n"
   ]
  },
  {
   "cell_type": "markdown",
   "metadata": {},
   "source": [
    "## 1: Empecemos por importar las bibliotecas que ya conocemos\n",
    "\n",
    "Sin embargo, aquí vamos a añadir un par de nuevas bibliotecas que nos permitirán usar callbacks y cargar modelos guardados.\n"
   ]
  },
  {
   "cell_type": "code",
   "execution_count": 6,
   "metadata": {},
   "outputs": [],
   "source": [
    "from keras.callbacks import EarlyStopping, ModelCheckpoint\n",
    "from keras.models import load_model"
   ]
  },
  {
   "cell_type": "markdown",
   "metadata": {},
   "source": [
    "## 2. Creando arquitectura del modelo\n"
   ]
  },
  {
   "cell_type": "code",
   "execution_count": 8,
   "metadata": {},
   "outputs": [],
   "source": [
    "def architecture_callback(shape, name):\n",
    "    model_ = Sequential(name=name)\n",
    "    model_.add(\n",
    "        Conv2D(\n",
    "            filters=64,\n",
    "            kernel_size=2,\n",
    "            padding=\"same\",\n",
    "            activation=\"relu\",\n",
    "            input_shape=shape,\n",
    "        )\n",
    "    )\n",
    "    model_.add(MaxPool2D(pool_size=2))\n",
    "    model_.add(Dropout(0.3))\n",
    "    model_.add(Conv2D(filters=32, kernel_size=2, padding=\"same\", activation=\"relu\"))\n",
    "    model_.add(MaxPool2D(pool_size=2))\n",
    "    model_.add(Dropout(0.3))\n",
    "    model_.add(Flatten())\n",
    "    model_.add(Dense(256, activation=\"relu\"))\n",
    "    model_.add(Dropout(0.5))\n",
    "    model_.add(Dense(10, activation=\"softmax\"))\n",
    "    print(model_.summary())\n",
    "    return model_"
   ]
  },
  {
   "cell_type": "markdown",
   "metadata": {},
   "source": [
    "## 3. Descargando el dataset y normalizando datos\n"
   ]
  },
  {
   "cell_type": "code",
   "execution_count": 9,
   "metadata": {},
   "outputs": [],
   "source": [
    "(train_images, train_labels), (test_images, test_labels) = fashion_mnist.load_data()\n",
    "\n",
    "train_images = train_images.astype(\"float32\") / 255\n",
    "test_images = test_images.astype(\"float32\") / 255\n",
    "\n",
    "train_images = train_images.reshape(train_images.shape[0], 28, 28, 1)\n",
    "test_images = test_images.reshape(test_images.shape[0], 28, 28, 1)\n",
    "\n",
    "train_labels_categorical = to_categorical(train_labels, 10)\n",
    "test_labels_categorical = to_categorical(test_labels, 10)"
   ]
  },
  {
   "cell_type": "markdown",
   "metadata": {},
   "source": [
    "## 4: Creando Callbacks\n",
    "\n",
    "Esta es la parte interesante de esta nueva sección, vamos a crear `Callbacks` para monitorear el entrenamiento de nuestra red.\n",
    "\n",
    "### Early Stopping\n",
    "\n",
    "Empecemos por definir un callback de `Early Stopping` Te aconsejo leer toda la documentación para entender mejor su uso.\n"
   ]
  },
  {
   "cell_type": "code",
   "execution_count": 10,
   "metadata": {},
   "outputs": [
    {
     "name": "stdout",
     "output_type": "stream",
     "text": [
      "WARNING:tensorflow:From c:\\Users\\mike\\Desktop\\redes_convolucionales\\venv\\Lib\\site-packages\\keras\\src\\backend.py:873: The name tf.get_default_graph is deprecated. Please use tf.compat.v1.get_default_graph instead.\n",
      "\n",
      "WARNING:tensorflow:From c:\\Users\\mike\\Desktop\\redes_convolucionales\\venv\\Lib\\site-packages\\keras\\src\\layers\\pooling\\max_pooling2d.py:161: The name tf.nn.max_pool is deprecated. Please use tf.nn.max_pool2d instead.\n",
      "\n",
      "Model: \"Early_Stopping\"\n",
      "_________________________________________________________________\n",
      " Layer (type)                Output Shape              Param #   \n",
      "=================================================================\n",
      " conv2d (Conv2D)             (None, 28, 28, 64)        320       \n",
      "                                                                 \n",
      " max_pooling2d (MaxPooling2  (None, 14, 14, 64)        0         \n",
      " D)                                                              \n",
      "                                                                 \n",
      " dropout (Dropout)           (None, 14, 14, 64)        0         \n",
      "                                                                 \n",
      " conv2d_1 (Conv2D)           (None, 14, 14, 32)        8224      \n",
      "                                                                 \n",
      " max_pooling2d_1 (MaxPoolin  (None, 7, 7, 32)          0         \n",
      " g2D)                                                            \n",
      "                                                                 \n",
      " dropout_1 (Dropout)         (None, 7, 7, 32)          0         \n",
      "                                                                 \n",
      " flatten (Flatten)           (None, 1568)              0         \n",
      "                                                                 \n",
      " dense (Dense)               (None, 256)               401664    \n",
      "                                                                 \n",
      " dropout_2 (Dropout)         (None, 256)               0         \n",
      "                                                                 \n",
      " dense_1 (Dense)             (None, 10)                2570      \n",
      "                                                                 \n",
      "=================================================================\n",
      "Total params: 412778 (1.57 MB)\n",
      "Trainable params: 412778 (1.57 MB)\n",
      "Non-trainable params: 0 (0.00 Byte)\n",
      "_________________________________________________________________\n",
      "None\n",
      "WARNING:tensorflow:From c:\\Users\\mike\\Desktop\\redes_convolucionales\\venv\\Lib\\site-packages\\keras\\src\\optimizers\\__init__.py:309: The name tf.train.Optimizer is deprecated. Please use tf.compat.v1.train.Optimizer instead.\n",
      "\n"
     ]
    }
   ],
   "source": [
    "# Callbacks de EarlyStopping\n",
    "\n",
    "early_stopping_cb = EarlyStopping(monitor=\"val_accuracy\", patience=1, verbose=1)\n",
    "\n",
    "# Creaando arquitecura del modelo\n",
    "\n",
    "model_c = architecture_callback(shape=train_images[0].shape, name=\"Early_Stopping\")\n",
    "\n",
    "# Compilando el modelo\n",
    "\n",
    "model_c.compile(\n",
    "    loss=\"categorical_crossentropy\", optimizer=\"rmsprop\", metrics=\"accuracy\"\n",
    ")"
   ]
  },
  {
   "cell_type": "code",
   "execution_count": 11,
   "metadata": {},
   "outputs": [
    {
     "name": "stdout",
     "output_type": "stream",
     "text": [
      "Epoch 1/15\n",
      "WARNING:tensorflow:From c:\\Users\\mike\\Desktop\\redes_convolucionales\\venv\\Lib\\site-packages\\keras\\src\\utils\\tf_utils.py:492: The name tf.ragged.RaggedTensorValue is deprecated. Please use tf.compat.v1.ragged.RaggedTensorValue instead.\n",
      "\n",
      "WARNING:tensorflow:From c:\\Users\\mike\\Desktop\\redes_convolucionales\\venv\\Lib\\site-packages\\keras\\src\\engine\\base_layer_utils.py:384: The name tf.executing_eagerly_outside_functions is deprecated. Please use tf.compat.v1.executing_eagerly_outside_functions instead.\n",
      "\n",
      "165/165 [==============================] - 8s 42ms/step - loss: 0.8485 - accuracy: 0.6863 - val_loss: 0.5906 - val_accuracy: 0.7656\n",
      "Epoch 2/15\n",
      "165/165 [==============================] - 7s 41ms/step - loss: 0.5185 - accuracy: 0.8098 - val_loss: 0.4161 - val_accuracy: 0.8476\n",
      "Epoch 3/15\n",
      "165/165 [==============================] - 7s 41ms/step - loss: 0.4534 - accuracy: 0.8356 - val_loss: 0.3786 - val_accuracy: 0.8641\n",
      "Epoch 4/15\n",
      "165/165 [==============================] - 7s 43ms/step - loss: 0.4141 - accuracy: 0.8491 - val_loss: 0.3509 - val_accuracy: 0.8726\n",
      "Epoch 5/15\n",
      "165/165 [==============================] - 7s 42ms/step - loss: 0.3884 - accuracy: 0.8588 - val_loss: 0.3441 - val_accuracy: 0.8738\n",
      "Epoch 6/15\n",
      "165/165 [==============================] - 7s 43ms/step - loss: 0.3636 - accuracy: 0.8675 - val_loss: 0.3307 - val_accuracy: 0.8811\n",
      "Epoch 7/15\n",
      "165/165 [==============================] - 7s 42ms/step - loss: 0.3500 - accuracy: 0.8715 - val_loss: 0.3294 - val_accuracy: 0.8763\n",
      "Epoch 7: early stopping\n"
     ]
    },
    {
     "data": {
      "text/plain": [
       "<keras.src.callbacks.History at 0x2918c6d7f50>"
      ]
     },
     "execution_count": 11,
     "metadata": {},
     "output_type": "execute_result"
    }
   ],
   "source": [
    "model_c.fit(\n",
    "    train_images,\n",
    "    train_labels_categorical,\n",
    "    batch_size=256,\n",
    "    epochs=15,\n",
    "    validation_split=0.3,\n",
    "    callbacks=[early_stopping_cb],\n",
    ")"
   ]
  },
  {
   "cell_type": "code",
   "execution_count": 12,
   "metadata": {},
   "outputs": [
    {
     "name": "stdout",
     "output_type": "stream",
     "text": [
      "313/313 [==============================] - 1s 2ms/step - loss: 0.3432 - accuracy: 0.8725\n",
      "[0.34324949979782104, 0.8725000023841858]\n"
     ]
    }
   ],
   "source": [
    "score_c = model_c.evaluate(test_images, test_labels_categorical)\n",
    "print(score_c)"
   ]
  },
  {
   "cell_type": "markdown",
   "metadata": {},
   "source": [
    "En este momento hemos definido un callback de early stopping, para efectos demostrativos estamos monitoreando el valor de accuracy NO del dataset de entrenamiento sino del de validación. En otras palabras, le estamos pidiendo al modelo que se detenga cuando NO haya logrado optimizar el accuracy del dataset de validación, tomando como restricción 1 única epoch. Esto es sumamente restrictivo, aquí solo está hecho para poder ejemplificar el caso, sin embargo, la `patience` debería ser mayor a 1 para evitar el ruido.\n"
   ]
  },
  {
   "cell_type": "markdown",
   "metadata": {},
   "source": [
    "Podemos ver que inmediatamente que él `val_accuracy` cayó el modelo dejo de ser entrenado. Esto en medida se debe al valor de `batch_size` que elegimos, un valor más pequeño es más lento de entrenar, aumenta en menor velocidad el accuracy, pero suele ser más estable. De cualquier forma, aquí SOLO buscabamos demostrar el comportamiento de `early stopping` no optimizar la red.\n"
   ]
  },
  {
   "cell_type": "markdown",
   "metadata": {},
   "source": [
    "## Checkpoint\n",
    "\n",
    "Este es un callback de extremada utilidad, pues permite ir guardando en cada epoch o n epoch el modelo que mejor optimice una feature. Te aconsejo ampliamente leer [ModelCheckpoint](https://keras.io/api/callbacks/model_checkpoint/).\n"
   ]
  },
  {
   "cell_type": "markdown",
   "metadata": {},
   "source": [
    "Creamos nuestro callback de checkpoint, le decimos que vamos a guardar el modelo entero (incluyendo, arquitecura, pesos etc) vamos a monitorear el `accuracy` del modelo, vamos a guardar el mejor modelo que encontremos y el modelo será guardado en `models/best_model.h5`\n"
   ]
  },
  {
   "cell_type": "code",
   "execution_count": 13,
   "metadata": {},
   "outputs": [
    {
     "name": "stdout",
     "output_type": "stream",
     "text": [
      "Model: \"Checkpoint\"\n",
      "_________________________________________________________________\n",
      " Layer (type)                Output Shape              Param #   \n",
      "=================================================================\n",
      " conv2d_2 (Conv2D)           (None, 28, 28, 64)        320       \n",
      "                                                                 \n",
      " max_pooling2d_2 (MaxPoolin  (None, 14, 14, 64)        0         \n",
      " g2D)                                                            \n",
      "                                                                 \n",
      " dropout_3 (Dropout)         (None, 14, 14, 64)        0         \n",
      "                                                                 \n",
      " conv2d_3 (Conv2D)           (None, 14, 14, 32)        8224      \n",
      "                                                                 \n",
      " max_pooling2d_3 (MaxPoolin  (None, 7, 7, 32)          0         \n",
      " g2D)                                                            \n",
      "                                                                 \n",
      " dropout_4 (Dropout)         (None, 7, 7, 32)          0         \n",
      "                                                                 \n",
      " flatten_1 (Flatten)         (None, 1568)              0         \n",
      "                                                                 \n",
      " dense_2 (Dense)             (None, 256)               401664    \n",
      "                                                                 \n",
      " dropout_5 (Dropout)         (None, 256)               0         \n",
      "                                                                 \n",
      " dense_3 (Dense)             (None, 10)                2570      \n",
      "                                                                 \n",
      "=================================================================\n",
      "Total params: 412778 (1.57 MB)\n",
      "Trainable params: 412778 (1.57 MB)\n",
      "Non-trainable params: 0 (0.00 Byte)\n",
      "_________________________________________________________________\n",
      "None\n"
     ]
    }
   ],
   "source": [
    "# Callbacks de ModelCheckpoint\n",
    "\n",
    "checkpoint_cb = ModelCheckpoint(\n",
    "    filepath=\"../model/best_model.h5\",\n",
    "    save_weights_only=False,\n",
    "    monitor=\"accuracy\",\n",
    "    mode=\"max\",\n",
    "    save_best_only=True,\n",
    "    verbose=1,\n",
    ")\n",
    "\n",
    "# Creando arquitectura del modelo\n",
    "model_c_c = architecture_callback(shape=train_images[0].shape, name=\"Checkpoint\")\n",
    "\n",
    "# Compilando el modelo\n",
    "model_c_c.compile(\n",
    "    loss=\"categorical_crossentropy\", optimizer=\"rmsprop\", metrics=\"accuracy\"\n",
    ")"
   ]
  },
  {
   "cell_type": "code",
   "execution_count": 15,
   "metadata": {},
   "outputs": [
    {
     "name": "stdout",
     "output_type": "stream",
     "text": [
      "Epoch 1/15\n",
      "656/657 [============================>.] - ETA: 0s - loss: 0.4947 - accuracy: 0.8209\n",
      "Epoch 1: accuracy improved from -inf to 0.82090, saving model to ../model\\best_model.h5\n",
      "657/657 [==============================] - 8s 12ms/step - loss: 0.4947 - accuracy: 0.8209 - val_loss: 0.3898 - val_accuracy: 0.8578\n",
      "Epoch 2/15\n",
      " 16/657 [..............................] - ETA: 7s - loss: 0.4044 - accuracy: 0.8594"
     ]
    },
    {
     "name": "stderr",
     "output_type": "stream",
     "text": [
      "c:\\Users\\mike\\Desktop\\redes_convolucionales\\venv\\Lib\\site-packages\\keras\\src\\engine\\training.py:3103: UserWarning: You are saving your model as an HDF5 file via `model.save()`. This file format is considered legacy. We recommend using instead the native Keras format, e.g. `model.save('my_model.keras')`.\n",
      "  saving_api.save_model(\n"
     ]
    },
    {
     "name": "stdout",
     "output_type": "stream",
     "text": [
      "653/657 [============================>.] - ETA: 0s - loss: 0.4089 - accuracy: 0.8531\n",
      "Epoch 2: accuracy improved from 0.82090 to 0.85317, saving model to ../model\\best_model.h5\n",
      "657/657 [==============================] - 8s 12ms/step - loss: 0.4090 - accuracy: 0.8532 - val_loss: 0.3663 - val_accuracy: 0.8644\n",
      "Epoch 3/15\n",
      "656/657 [============================>.] - ETA: 0s - loss: 0.3666 - accuracy: 0.8677\n",
      "Epoch 3: accuracy improved from 0.85317 to 0.86776, saving model to ../model\\best_model.h5\n",
      "657/657 [==============================] - 8s 12ms/step - loss: 0.3665 - accuracy: 0.8678 - val_loss: 0.3056 - val_accuracy: 0.8905\n",
      "Epoch 4/15\n",
      "656/657 [============================>.] - ETA: 0s - loss: 0.3447 - accuracy: 0.8751\n",
      "Epoch 4: accuracy improved from 0.86776 to 0.87502, saving model to ../model\\best_model.h5\n",
      "657/657 [==============================] - 8s 12ms/step - loss: 0.3448 - accuracy: 0.8750 - val_loss: 0.3114 - val_accuracy: 0.8833\n",
      "Epoch 5/15\n",
      "652/657 [============================>.] - ETA: 0s - loss: 0.3256 - accuracy: 0.8839\n",
      "Epoch 5: accuracy improved from 0.87502 to 0.88383, saving model to ../model\\best_model.h5\n",
      "657/657 [==============================] - 8s 12ms/step - loss: 0.3259 - accuracy: 0.8838 - val_loss: 0.2805 - val_accuracy: 0.8985\n",
      "Epoch 6/15\n",
      "656/657 [============================>.] - ETA: 0s - loss: 0.3176 - accuracy: 0.8866\n",
      "Epoch 6: accuracy improved from 0.88383 to 0.88667, saving model to ../model\\best_model.h5\n",
      "657/657 [==============================] - 8s 12ms/step - loss: 0.3176 - accuracy: 0.8867 - val_loss: 0.2720 - val_accuracy: 0.9018\n",
      "Epoch 7/15\n",
      "655/657 [============================>.] - ETA: 0s - loss: 0.3117 - accuracy: 0.8894\n",
      "Epoch 7: accuracy improved from 0.88667 to 0.88945, saving model to ../model\\best_model.h5\n",
      "657/657 [==============================] - 8s 12ms/step - loss: 0.3115 - accuracy: 0.8895 - val_loss: 0.2687 - val_accuracy: 0.9048\n",
      "Epoch 8/15\n",
      "654/657 [============================>.] - ETA: 0s - loss: 0.3023 - accuracy: 0.8923\n",
      "Epoch 8: accuracy improved from 0.88945 to 0.89229, saving model to ../model\\best_model.h5\n",
      "657/657 [==============================] - 8s 13ms/step - loss: 0.3021 - accuracy: 0.8923 - val_loss: 0.2605 - val_accuracy: 0.9065\n",
      "Epoch 9/15\n",
      "652/657 [============================>.] - ETA: 0s - loss: 0.2956 - accuracy: 0.8944\n",
      "Epoch 9: accuracy improved from 0.89229 to 0.89424, saving model to ../model\\best_model.h5\n",
      "657/657 [==============================] - 8s 12ms/step - loss: 0.2960 - accuracy: 0.8942 - val_loss: 0.2816 - val_accuracy: 0.9012\n",
      "Epoch 10/15\n",
      "652/657 [============================>.] - ETA: 0s - loss: 0.2925 - accuracy: 0.8965\n",
      "Epoch 10: accuracy improved from 0.89424 to 0.89648, saving model to ../model\\best_model.h5\n",
      "657/657 [==============================] - 8s 12ms/step - loss: 0.2929 - accuracy: 0.8965 - val_loss: 0.2846 - val_accuracy: 0.8974\n",
      "Epoch 11/15\n",
      "657/657 [==============================] - ETA: 0s - loss: 0.2858 - accuracy: 0.8979\n",
      "Epoch 11: accuracy improved from 0.89648 to 0.89786, saving model to ../model\\best_model.h5\n",
      "657/657 [==============================] - 8s 13ms/step - loss: 0.2858 - accuracy: 0.8979 - val_loss: 0.3067 - val_accuracy: 0.8851\n",
      "Epoch 12/15\n",
      "656/657 [============================>.] - ETA: 0s - loss: 0.2870 - accuracy: 0.8981\n",
      "Epoch 12: accuracy improved from 0.89786 to 0.89805, saving model to ../model\\best_model.h5\n",
      "657/657 [==============================] - 8s 13ms/step - loss: 0.2870 - accuracy: 0.8980 - val_loss: 0.2761 - val_accuracy: 0.8991\n",
      "Epoch 13/15\n",
      "653/657 [============================>.] - ETA: 0s - loss: 0.2797 - accuracy: 0.9001\n",
      "Epoch 13: accuracy improved from 0.89805 to 0.89993, saving model to ../model\\best_model.h5\n",
      "657/657 [==============================] - 8s 13ms/step - loss: 0.2799 - accuracy: 0.8999 - val_loss: 0.2532 - val_accuracy: 0.9116\n",
      "Epoch 14/15\n",
      "657/657 [==============================] - ETA: 0s - loss: 0.2842 - accuracy: 0.8994\n",
      "Epoch 14: accuracy did not improve from 0.89993\n",
      "657/657 [==============================] - 8s 13ms/step - loss: 0.2842 - accuracy: 0.8994 - val_loss: 0.2731 - val_accuracy: 0.9023\n",
      "Epoch 15/15\n",
      "656/657 [============================>.] - ETA: 0s - loss: 0.2808 - accuracy: 0.9001\n",
      "Epoch 15: accuracy improved from 0.89993 to 0.90007, saving model to ../model\\best_model.h5\n",
      "657/657 [==============================] - 8s 13ms/step - loss: 0.2808 - accuracy: 0.9001 - val_loss: 0.2604 - val_accuracy: 0.9099\n"
     ]
    },
    {
     "data": {
      "text/plain": [
       "<keras.src.callbacks.History at 0x291905fd690>"
      ]
     },
     "execution_count": 15,
     "metadata": {},
     "output_type": "execute_result"
    }
   ],
   "source": [
    "model_c_c.fit(\n",
    "    train_images,\n",
    "    train_labels_categorical,\n",
    "    batch_size=64,\n",
    "    epochs=15,\n",
    "    validation_split=0.3,\n",
    "    callbacks=[checkpoint_cb],\n",
    ")"
   ]
  },
  {
   "cell_type": "markdown",
   "metadata": {},
   "source": [
    "Ahora veamos los resultados con el dataset de prueba:\n"
   ]
  },
  {
   "cell_type": "code",
   "execution_count": 17,
   "metadata": {},
   "outputs": [
    {
     "name": "stdout",
     "output_type": "stream",
     "text": [
      "313/313 [==============================] - 1s 2ms/step - loss: 0.2729 - accuracy: 0.9054\n",
      "Model:  [0.2728510797023773, 0.9053999781608582]\n",
      "313/313 [==============================] - 1s 2ms/step - loss: 0.2729 - accuracy: 0.9054\n",
      "Model Checkpoint:  [0.2728510797023773, 0.9053999781608582]\n"
     ]
    }
   ],
   "source": [
    "# Podemos asegurarnos de que el modelo se ha guardado correctamente cargandolo y evaluandolo\n",
    "\n",
    "loaded_model = load_model(\"../model/best_model.h5\")\n",
    "\n",
    "print(\"Model: \", model_c_c.evaluate(test_images, test_labels_categorical))\n",
    "\n",
    "print(\"Model Checkpoint: \", loaded_model.evaluate(test_images, test_labels_categorical))"
   ]
  }
 ],
 "metadata": {
  "kernelspec": {
   "display_name": "template",
   "language": "python",
   "name": "python3"
  },
  "language_info": {
   "codemirror_mode": {
    "name": "ipython",
    "version": 3
   },
   "file_extension": ".py",
   "mimetype": "text/x-python",
   "name": "python",
   "nbconvert_exporter": "python",
   "pygments_lexer": "ipython3",
   "version": "3.11.8"
  }
 },
 "nbformat": 4,
 "nbformat_minor": 2
}
