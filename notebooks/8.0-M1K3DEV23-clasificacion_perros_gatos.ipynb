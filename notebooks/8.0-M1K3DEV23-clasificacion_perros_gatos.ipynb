{
 "cells": [
  {
   "cell_type": "markdown",
   "metadata": {},
   "source": [
    "# Dogs vs. Cats\n",
    "\n",
    "En este mini proyecto haremos una CNN muy sencilla para clasificar entre perros y gatos, sin embargo, la principal diferencia respecto a todos los otros ejemplos es que en esta ocasión NO partiremos de un dataset de Keras, sino que tendremos a nuestra disposición un dataset.\n",
    "\n",
    "[cnn_data_sources](https://www.kaggle.com/datasets/alarcon7a/cnn-data-sources?select=cats_and_dogs)\n",
    "\n",
    "El dataset contiene la siguiente distribución de datos:\n",
    "\n",
    "- Train: 2000 imágenes, 1000 gatos - 1000 perros\n",
    "\n",
    "- Test: 1000 imágenes, 500 gatos - 500 perros\n",
    "\n",
    "- Validation: 1000 imágenes, 500 gatos - 500 perros\n",
    "\n",
    "El nombre de las carpetas indica explícitamente en nombre de la etiqueta a la que pertenece la imagen. Sin embargo, cada imagen puede tener dimensiones diferentes, y estas no están normalizadas de ninguna manera. Nuestro trabajo será entonces convertir esta carpeta en un dataset de entrenamiento, validación y prueba para nuestra CNN. Para ello usaremos el método `datagen.flow_from_directory` del cual hablamos brevemente en Aplicando data augmentation, pero en este ejemplo lo usaremos concretamente.\n"
   ]
  },
  {
   "cell_type": "markdown",
   "metadata": {},
   "source": [
    "## 1: Importando bibliotecas\n"
   ]
  },
  {
   "cell_type": "code",
   "execution_count": 3,
   "metadata": {},
   "outputs": [
    {
     "name": "stdout",
     "output_type": "stream",
     "text": [
      "WARNING:tensorflow:From c:\\Users\\mike\\Desktop\\redes_convolucionales\\venv\\Lib\\site-packages\\keras\\src\\losses.py:2976: The name tf.losses.sparse_softmax_cross_entropy is deprecated. Please use tf.compat.v1.losses.sparse_softmax_cross_entropy instead.\n",
      "\n"
     ]
    }
   ],
   "source": [
    "import matplotlib.pyplot as plt\n",
    "from keras.callbacks import ModelCheckpoint\n",
    "from keras.layers import Conv2D, Dense, Dropout, Flatten, MaxPooling2D\n",
    "from keras.models import Sequential, load_model\n",
    "from keras.optimizers import Adam\n",
    "from keras.preprocessing.image import ImageDataGenerator"
   ]
  },
  {
   "cell_type": "markdown",
   "metadata": {},
   "source": [
    "## 2: Definamos una arquitectura sencilla\n",
    "\n",
    "Para este ejemplo, no nos centraremos en crear un modelo óptimo, sino en mostrar el flujo de información y como generar el dataset desde las imágenes de entrada distribuidas en diferentes carpetas.\n"
   ]
  },
  {
   "cell_type": "code",
   "execution_count": 5,
   "metadata": {},
   "outputs": [],
   "source": [
    "def architecture(n_filters, input_shape):\n",
    "    model = Sequential()\n",
    "\n",
    "    model.add(\n",
    "        Conv2D(\n",
    "            filters=n_filters,\n",
    "            kernel_size=(3, 3),\n",
    "            activation=\"relu\",\n",
    "            input_shape=input_shape,\n",
    "        )\n",
    "    )\n",
    "    model.add(MaxPooling2D(2, 2))\n",
    "\n",
    "    model.add(Conv2D(filters=n_filters * 2, kernel_size=(3, 3), activation=\"relu\"))\n",
    "    model.add(MaxPooling2D(2, 2))\n",
    "\n",
    "    model.add(Conv2D(filters=n_filters * 4, kernel_size=(3, 3), activation=\"relu\"))\n",
    "    model.add(MaxPooling2D(2, 2))\n",
    "\n",
    "    model.add(Conv2D(filters=n_filters * 4, kernel_size=(3, 3), activation=\"relu\"))\n",
    "    model.add(MaxPooling2D(2, 2))\n",
    "\n",
    "    model.add(Flatten())\n",
    "    model.add(Dropout(0.5))\n",
    "    model.add(Dense(512, activation=\"relu\"))\n",
    "    model.add(Dense(1, activation=\"sigmoid\"))\n",
    "    model.summary()\n",
    "\n",
    "    return model"
   ]
  },
  {
   "cell_type": "markdown",
   "metadata": {},
   "source": [
    "## 3: Creación de Image Data Generators\n",
    "\n",
    "Para este particular problema usaremos `Image Data Generators` porque tenemos muy pocos datos de entrenamiento para nuestro problema, apenas contamos con `2,000` ejemplos `1,000` de cada clase.\n",
    "\n",
    "Para el generador de entrenamiento tendremos la siguiente configuración:\n"
   ]
  },
  {
   "cell_type": "code",
   "execution_count": 6,
   "metadata": {},
   "outputs": [],
   "source": [
    "train_datagen = ImageDataGenerator(\n",
    "    rescale=1.0 / 255,\n",
    "    rotation_range=40,\n",
    "    width_shift_range=0.2,\n",
    "    height_shift_range=0.2,\n",
    "    zoom_range=0.2,\n",
    "    shear_range=0.2,\n",
    "    horizontal_flip=True,\n",
    ")"
   ]
  },
  {
   "cell_type": "markdown",
   "metadata": {},
   "source": [
    "Como podemos observar, podemos permitir varias alteraciones a las imágenes originales. Pero el primer punto de rescale es que va a dividir toda la imagen entre 255, una normalización básica pero bastante útil.\n",
    "\n",
    "Para el generador de test lo único que haremos será utilizar él `rescale` para normalizar los datos, pero este objeto no será útil más adelante para cargar las imágenes de validation y test.\n"
   ]
  },
  {
   "cell_type": "code",
   "execution_count": 7,
   "metadata": {},
   "outputs": [],
   "source": [
    "test_datagen = ImageDataGenerator(rescale=1.0 / 255)"
   ]
  },
  {
   "cell_type": "markdown",
   "metadata": {},
   "source": [
    "## 4: Definimos el batch_size con el cual van a trabajar los generadores de imágenes\n",
    "\n",
    "Este valor también será utilizado más adelante para definir steps_per_epoch y validation_steps\n"
   ]
  },
  {
   "cell_type": "code",
   "execution_count": 8,
   "metadata": {},
   "outputs": [],
   "source": [
    "bs = 32"
   ]
  },
  {
   "cell_type": "markdown",
   "metadata": {},
   "source": [
    "## 5: Creando los datasets de entrenamiento, validación y pruebas\n",
    "\n",
    "Como podemos apreciar, nuestra data de entrenamiento éxiste en el `train_generator` que a su vez se crea por el objeto `train_datage` que definimos anteriormente, adicionalmente, usamos el método `flow_from_directory` para decirle que las imáquenes que va a aumentar provienen del directorio `data/train`, adicionalmente, le pedimos que re-escale todas las imágenes a una resolución de **(150x150) píxeles**, y que ocupe el `batch_size` que definimos anteriormente como `bs`, finalmente, este directorio solo cuenta con **2 clases**, es por ello que elegimos `class_mode` como **binary**.\n"
   ]
  },
  {
   "cell_type": "code",
   "execution_count": 9,
   "metadata": {},
   "outputs": [
    {
     "name": "stdout",
     "output_type": "stream",
     "text": [
      "Found 2000 images belonging to 2 classes.\n",
      "Found 1000 images belonging to 2 classes.\n",
      "Found 1000 images belonging to 2 classes.\n"
     ]
    }
   ],
   "source": [
    "train_generator = train_datagen.flow_from_directory(\n",
    "    directory=\"../data/cats_and_dogs/train\",\n",
    "    target_size=(150, 150),\n",
    "    batch_size=bs,\n",
    "    class_mode=\"binary\",\n",
    ")\n",
    "\n",
    "validation_generator = test_datagen.flow_from_directory(\n",
    "    directory=\"../data/cats_and_dogs/validation\",\n",
    "    target_size=(150, 150),\n",
    "    batch_size=bs,\n",
    "    class_mode=\"binary\",\n",
    ")\n",
    "\n",
    "test_generator = test_datagen.flow_from_directory(\n",
    "    directory=\"../data/cats_and_dogs/test\",\n",
    "    target_size=(150, 150),\n",
    "    batch_size=bs,\n",
    "    class_mode=\"binary\",\n",
    ")"
   ]
  },
  {
   "cell_type": "markdown",
   "metadata": {},
   "source": [
    "Finalmente, podemos observar como los datasets de `validation` y `test` no tienen ninguna transformación a los datos más que la normalización de dividir entre 255.\n"
   ]
  },
  {
   "cell_type": "markdown",
   "metadata": {},
   "source": [
    "# Entrenamiento del modelo de clasificación de perros y gatos\n"
   ]
  },
  {
   "cell_type": "markdown",
   "metadata": {},
   "source": [
    "Antes de entrenar el modelo, es buena idea crear un callback de tipo checkpoint para siempre tener guardado el `best_model`\n"
   ]
  },
  {
   "cell_type": "code",
   "execution_count": 10,
   "metadata": {},
   "outputs": [],
   "source": [
    "checkpoint_cb = ModelCheckpoint(\n",
    "    \"../model/cats_vs_dogs.keras\", verbose=1, save_best_only=True, monitor=\"val_acc\"\n",
    ")"
   ]
  },
  {
   "cell_type": "markdown",
   "metadata": {},
   "source": [
    "## 6: Creando y compilando el modelo\n"
   ]
  },
  {
   "cell_type": "code",
   "execution_count": 11,
   "metadata": {},
   "outputs": [
    {
     "name": "stdout",
     "output_type": "stream",
     "text": [
      "WARNING:tensorflow:From c:\\Users\\mike\\Desktop\\redes_convolucionales\\venv\\Lib\\site-packages\\keras\\src\\backend.py:873: The name tf.get_default_graph is deprecated. Please use tf.compat.v1.get_default_graph instead.\n",
      "\n",
      "WARNING:tensorflow:From c:\\Users\\mike\\Desktop\\redes_convolucionales\\venv\\Lib\\site-packages\\keras\\src\\layers\\pooling\\max_pooling2d.py:161: The name tf.nn.max_pool is deprecated. Please use tf.nn.max_pool2d instead.\n",
      "\n",
      "Model: \"sequential\"\n",
      "_________________________________________________________________\n",
      " Layer (type)                Output Shape              Param #   \n",
      "=================================================================\n",
      " conv2d (Conv2D)             (None, 148, 148, 32)      896       \n",
      "                                                                 \n",
      " max_pooling2d (MaxPooling2  (None, 74, 74, 32)        0         \n",
      " D)                                                              \n",
      "                                                                 \n",
      " conv2d_1 (Conv2D)           (None, 72, 72, 64)        18496     \n",
      "                                                                 \n",
      " max_pooling2d_1 (MaxPoolin  (None, 36, 36, 64)        0         \n",
      " g2D)                                                            \n",
      "                                                                 \n",
      " conv2d_2 (Conv2D)           (None, 34, 34, 128)       73856     \n",
      "                                                                 \n",
      " max_pooling2d_2 (MaxPoolin  (None, 17, 17, 128)       0         \n",
      " g2D)                                                            \n",
      "                                                                 \n",
      " conv2d_3 (Conv2D)           (None, 15, 15, 128)       147584    \n",
      "                                                                 \n",
      " max_pooling2d_3 (MaxPoolin  (None, 7, 7, 128)         0         \n",
      " g2D)                                                            \n",
      "                                                                 \n",
      " flatten (Flatten)           (None, 6272)              0         \n",
      "                                                                 \n",
      " dropout (Dropout)           (None, 6272)              0         \n",
      "                                                                 \n",
      " dense (Dense)               (None, 512)               3211776   \n",
      "                                                                 \n",
      " dense_1 (Dense)             (None, 1)                 513       \n",
      "                                                                 \n",
      "=================================================================\n",
      "Total params: 3453121 (13.17 MB)\n",
      "Trainable params: 3453121 (13.17 MB)\n",
      "Non-trainable params: 0 (0.00 Byte)\n",
      "_________________________________________________________________\n"
     ]
    }
   ],
   "source": [
    "md = architecture(n_filters=32, input_shape=(150, 150, 3))\n",
    "md.compile(optimizer=Adam(), loss=\"binary_crossentropy\", metrics=[\"acc\"])"
   ]
  },
  {
   "cell_type": "markdown",
   "metadata": {},
   "source": [
    "## 7: Entrenamos el modelo\n"
   ]
  },
  {
   "cell_type": "code",
   "execution_count": 13,
   "metadata": {},
   "outputs": [
    {
     "name": "stdout",
     "output_type": "stream",
     "text": [
      "Epoch 1/30\n",
      "WARNING:tensorflow:From c:\\Users\\mike\\Desktop\\redes_convolucionales\\venv\\Lib\\site-packages\\keras\\src\\utils\\tf_utils.py:492: The name tf.ragged.RaggedTensorValue is deprecated. Please use tf.compat.v1.ragged.RaggedTensorValue instead.\n",
      "\n",
      "WARNING:tensorflow:From c:\\Users\\mike\\Desktop\\redes_convolucionales\\venv\\Lib\\site-packages\\keras\\src\\engine\\base_layer_utils.py:384: The name tf.executing_eagerly_outside_functions is deprecated. Please use tf.compat.v1.executing_eagerly_outside_functions instead.\n",
      "\n",
      "62/62 [==============================] - ETA: 0s - loss: 0.7048 - acc: 0.5203\n",
      "Epoch 1: val_acc improved from -inf to 0.50202, saving model to ../model\\cats_vs_dogs.keras\n",
      "62/62 [==============================] - 25s 393ms/step - loss: 0.7048 - acc: 0.5203 - val_loss: 0.6908 - val_acc: 0.5020\n",
      "Epoch 2/30\n",
      "62/62 [==============================] - ETA: 0s - loss: 0.6921 - acc: 0.5213\n",
      "Epoch 2: val_acc improved from 0.50202 to 0.57560, saving model to ../model\\cats_vs_dogs.keras\n",
      "62/62 [==============================] - 15s 237ms/step - loss: 0.6921 - acc: 0.5213 - val_loss: 0.6861 - val_acc: 0.5756\n",
      "Epoch 3/30\n",
      "62/62 [==============================] - ETA: 0s - loss: 0.6930 - acc: 0.5203\n",
      "Epoch 3: val_acc improved from 0.57560 to 0.57863, saving model to ../model\\cats_vs_dogs.keras\n",
      "62/62 [==============================] - 15s 247ms/step - loss: 0.6930 - acc: 0.5203 - val_loss: 0.6776 - val_acc: 0.5786\n",
      "Epoch 4/30\n",
      "62/62 [==============================] - ETA: 0s - loss: 0.6816 - acc: 0.5696\n",
      "Epoch 4: val_acc did not improve from 0.57863\n",
      "62/62 [==============================] - 14s 231ms/step - loss: 0.6816 - acc: 0.5696 - val_loss: 0.6790 - val_acc: 0.5444\n",
      "Epoch 5/30\n",
      "62/62 [==============================] - ETA: 0s - loss: 0.6833 - acc: 0.5838\n",
      "Epoch 5: val_acc improved from 0.57863 to 0.58770, saving model to ../model\\cats_vs_dogs.keras\n",
      "62/62 [==============================] - 14s 231ms/step - loss: 0.6833 - acc: 0.5838 - val_loss: 0.6670 - val_acc: 0.5877\n",
      "Epoch 6/30\n",
      "62/62 [==============================] - ETA: 0s - loss: 0.6616 - acc: 0.6047\n",
      "Epoch 6: val_acc improved from 0.58770 to 0.67440, saving model to ../model\\cats_vs_dogs.keras\n",
      "62/62 [==============================] - 14s 228ms/step - loss: 0.6616 - acc: 0.6047 - val_loss: 0.6235 - val_acc: 0.6744\n",
      "Epoch 7/30\n",
      "62/62 [==============================] - ETA: 0s - loss: 0.6603 - acc: 0.6108\n",
      "Epoch 7: val_acc improved from 0.67440 to 0.68246, saving model to ../model\\cats_vs_dogs.keras\n",
      "62/62 [==============================] - 14s 227ms/step - loss: 0.6603 - acc: 0.6108 - val_loss: 0.6076 - val_acc: 0.6825\n",
      "Epoch 8/30\n",
      "62/62 [==============================] - ETA: 0s - loss: 0.6427 - acc: 0.6367\n",
      "Epoch 8: val_acc did not improve from 0.68246\n",
      "62/62 [==============================] - 14s 228ms/step - loss: 0.6427 - acc: 0.6367 - val_loss: 0.6789 - val_acc: 0.6048\n",
      "Epoch 9/30\n",
      "62/62 [==============================] - ETA: 0s - loss: 0.6378 - acc: 0.6418\n",
      "Epoch 9: val_acc improved from 0.68246 to 0.69859, saving model to ../model\\cats_vs_dogs.keras\n",
      "62/62 [==============================] - 14s 231ms/step - loss: 0.6378 - acc: 0.6418 - val_loss: 0.6079 - val_acc: 0.6986\n",
      "Epoch 10/30\n",
      "62/62 [==============================] - ETA: 0s - loss: 0.6361 - acc: 0.6341\n",
      "Epoch 10: val_acc did not improve from 0.69859\n",
      "62/62 [==============================] - 14s 227ms/step - loss: 0.6361 - acc: 0.6341 - val_loss: 0.6278 - val_acc: 0.6421\n",
      "Epoch 11/30\n",
      "62/62 [==============================] - ETA: 0s - loss: 0.6145 - acc: 0.6651\n",
      "Epoch 11: val_acc did not improve from 0.69859\n",
      "62/62 [==============================] - 14s 229ms/step - loss: 0.6145 - acc: 0.6651 - val_loss: 0.5940 - val_acc: 0.6915\n",
      "Epoch 12/30\n",
      "62/62 [==============================] - ETA: 0s - loss: 0.6131 - acc: 0.6651\n",
      "Epoch 12: val_acc did not improve from 0.69859\n",
      "62/62 [==============================] - 14s 229ms/step - loss: 0.6131 - acc: 0.6651 - val_loss: 0.6084 - val_acc: 0.6694\n",
      "Epoch 13/30\n",
      "62/62 [==============================] - ETA: 0s - loss: 0.6207 - acc: 0.6636\n",
      "Epoch 13: val_acc did not improve from 0.69859\n",
      "62/62 [==============================] - 14s 227ms/step - loss: 0.6207 - acc: 0.6636 - val_loss: 0.6016 - val_acc: 0.6673\n",
      "Epoch 14/30\n",
      "62/62 [==============================] - ETA: 0s - loss: 0.6161 - acc: 0.6667\n",
      "Epoch 14: val_acc improved from 0.69859 to 0.72581, saving model to ../model\\cats_vs_dogs.keras\n",
      "62/62 [==============================] - 14s 228ms/step - loss: 0.6161 - acc: 0.6667 - val_loss: 0.5630 - val_acc: 0.7258\n",
      "Epoch 15/30\n",
      "62/62 [==============================] - ETA: 0s - loss: 0.5856 - acc: 0.6982\n",
      "Epoch 15: val_acc did not improve from 0.72581\n",
      "62/62 [==============================] - 14s 226ms/step - loss: 0.5856 - acc: 0.6982 - val_loss: 0.5665 - val_acc: 0.6976\n",
      "Epoch 16/30\n",
      "62/62 [==============================] - ETA: 0s - loss: 0.5755 - acc: 0.6982\n",
      "Epoch 16: val_acc did not improve from 0.72581\n",
      "62/62 [==============================] - 14s 228ms/step - loss: 0.5755 - acc: 0.6982 - val_loss: 0.6073 - val_acc: 0.6734\n",
      "Epoch 17/30\n",
      "62/62 [==============================] - ETA: 0s - loss: 0.5769 - acc: 0.7048\n",
      "Epoch 17: val_acc did not improve from 0.72581\n",
      "62/62 [==============================] - 14s 229ms/step - loss: 0.5769 - acc: 0.7048 - val_loss: 0.5792 - val_acc: 0.6935\n",
      "Epoch 18/30\n",
      "62/62 [==============================] - ETA: 0s - loss: 0.5752 - acc: 0.7033\n",
      "Epoch 18: val_acc did not improve from 0.72581\n",
      "62/62 [==============================] - 14s 227ms/step - loss: 0.5752 - acc: 0.7033 - val_loss: 0.5439 - val_acc: 0.7198\n",
      "Epoch 19/30\n",
      "62/62 [==============================] - ETA: 0s - loss: 0.5567 - acc: 0.7195\n",
      "Epoch 19: val_acc improved from 0.72581 to 0.72782, saving model to ../model\\cats_vs_dogs.keras\n",
      "62/62 [==============================] - 14s 229ms/step - loss: 0.5567 - acc: 0.7195 - val_loss: 0.5384 - val_acc: 0.7278\n",
      "Epoch 20/30\n",
      "62/62 [==============================] - ETA: 0s - loss: 0.5606 - acc: 0.7124\n",
      "Epoch 20: val_acc did not improve from 0.72782\n",
      "62/62 [==============================] - 14s 229ms/step - loss: 0.5606 - acc: 0.7124 - val_loss: 0.5640 - val_acc: 0.7167\n",
      "Epoch 21/30\n",
      "62/62 [==============================] - ETA: 0s - loss: 0.5662 - acc: 0.7144\n",
      "Epoch 21: val_acc did not improve from 0.72782\n",
      "62/62 [==============================] - 15s 244ms/step - loss: 0.5662 - acc: 0.7144 - val_loss: 0.5441 - val_acc: 0.7157\n",
      "Epoch 22/30\n",
      "62/62 [==============================] - ETA: 0s - loss: 0.5667 - acc: 0.7063\n",
      "Epoch 22: val_acc did not improve from 0.72782\n",
      "62/62 [==============================] - 15s 244ms/step - loss: 0.5667 - acc: 0.7063 - val_loss: 0.5419 - val_acc: 0.7248\n",
      "Epoch 23/30\n",
      "62/62 [==============================] - ETA: 0s - loss: 0.5656 - acc: 0.7078\n",
      "Epoch 23: val_acc did not improve from 0.72782\n",
      "62/62 [==============================] - 14s 226ms/step - loss: 0.5656 - acc: 0.7078 - val_loss: 0.5541 - val_acc: 0.7157\n",
      "Epoch 24/30\n",
      "62/62 [==============================] - ETA: 0s - loss: 0.5380 - acc: 0.7398\n",
      "Epoch 24: val_acc improved from 0.72782 to 0.73690, saving model to ../model\\cats_vs_dogs.keras\n",
      "62/62 [==============================] - 14s 226ms/step - loss: 0.5380 - acc: 0.7398 - val_loss: 0.5102 - val_acc: 0.7369\n",
      "Epoch 25/30\n",
      "62/62 [==============================] - ETA: 0s - loss: 0.5422 - acc: 0.7266\n",
      "Epoch 25: val_acc did not improve from 0.73690\n",
      "62/62 [==============================] - 14s 226ms/step - loss: 0.5422 - acc: 0.7266 - val_loss: 0.5319 - val_acc: 0.7349\n",
      "Epoch 26/30\n",
      "62/62 [==============================] - ETA: 0s - loss: 0.5323 - acc: 0.7271\n",
      "Epoch 26: val_acc improved from 0.73690 to 0.75907, saving model to ../model\\cats_vs_dogs.keras\n",
      "62/62 [==============================] - 14s 228ms/step - loss: 0.5323 - acc: 0.7271 - val_loss: 0.4885 - val_acc: 0.7591\n",
      "Epoch 27/30\n",
      "62/62 [==============================] - ETA: 0s - loss: 0.5288 - acc: 0.7322\n",
      "Epoch 27: val_acc did not improve from 0.75907\n",
      "62/62 [==============================] - 14s 227ms/step - loss: 0.5288 - acc: 0.7322 - val_loss: 0.5135 - val_acc: 0.7389\n",
      "Epoch 28/30\n",
      "62/62 [==============================] - ETA: 0s - loss: 0.5219 - acc: 0.7429\n",
      "Epoch 28: val_acc did not improve from 0.75907\n",
      "62/62 [==============================] - 14s 228ms/step - loss: 0.5219 - acc: 0.7429 - val_loss: 0.4832 - val_acc: 0.7560\n",
      "Epoch 29/30\n",
      "62/62 [==============================] - ETA: 0s - loss: 0.5291 - acc: 0.7490\n",
      "Epoch 29: val_acc improved from 0.75907 to 0.77016, saving model to ../model\\cats_vs_dogs.keras\n",
      "62/62 [==============================] - 14s 227ms/step - loss: 0.5291 - acc: 0.7490 - val_loss: 0.4960 - val_acc: 0.7702\n",
      "Epoch 30/30\n",
      "62/62 [==============================] - ETA: 0s - loss: 0.5041 - acc: 0.7515\n",
      "Epoch 30: val_acc improved from 0.77016 to 0.78125, saving model to ../model\\cats_vs_dogs.keras\n",
      "62/62 [==============================] - 14s 229ms/step - loss: 0.5041 - acc: 0.7515 - val_loss: 0.4556 - val_acc: 0.7812\n"
     ]
    }
   ],
   "source": [
    "history = md.fit(\n",
    "    train_generator,\n",
    "    epochs=30,\n",
    "    steps_per_epoch=2000 // bs,\n",
    "    validation_data=validation_generator,\n",
    "    validation_steps=1000 // bs,\n",
    "    callbacks=[checkpoint_cb],\n",
    "    batch_size=64,\n",
    ")"
   ]
  },
  {
   "cell_type": "markdown",
   "metadata": {},
   "source": [
    "## 8: Análisis de resultados\n"
   ]
  },
  {
   "cell_type": "code",
   "execution_count": 16,
   "metadata": {},
   "outputs": [],
   "source": [
    "def plot_result(history_, metric):\n",
    "    history_dict = history_.history\n",
    "    loss_values = history_dict[\"loss\"]\n",
    "    val_loss_values = history_dict[\"val_loss\"]\n",
    "    metric_values = history_dict[metric]\n",
    "    val_metric_values = history_dict[f\"val_{metric}\"]\n",
    "    epoch = range(1, len(loss_values) + 1)\n",
    "\n",
    "    fig, ax = plt.subplots(1, 2, figsize=(8, 5))\n",
    "\n",
    "    fig.suptitle(f\"Neural Network's Result\")\n",
    "    ax[0].set_title(\"Loss function over epochs\")\n",
    "    ax[0].set(ylabel=\"Loss\", xlabel=\"Epochs\")\n",
    "    ax[0].plot(epoch, loss_values, \"o-r\", label=\"Training\")\n",
    "    ax[0].plot(epoch, val_loss_values, \"--\", label=\"Validation\")\n",
    "    ax[0].legend()\n",
    "\n",
    "    ax[1].set_title(f\"{metric} over epochs\")\n",
    "    ax[1].set(ylabel=metric, xlabel=\"Epochs\")\n",
    "    ax[1].plot(epoch, metric_values, \"o-r\", label=\"Training\")\n",
    "    ax[1].plot(epoch, val_metric_values, \"--\", label=\"Validation\")\n",
    "    ax[1].legend()\n",
    "\n",
    "    plt.show()"
   ]
  },
  {
   "cell_type": "code",
   "execution_count": 18,
   "metadata": {},
   "outputs": [
    {
     "data": {
      "image/png": "[encoded data removed]",
      "text/plain": [
       "<Figure size 800x500 with 2 Axes>"
      ]
     },
     "metadata": {},
     "output_type": "display_data"
    }
   ],
   "source": [
    "plot_result(history, \"acc\")"
   ]
  },
  {
   "cell_type": "code",
   "execution_count": 19,
   "metadata": {},
   "outputs": [
    {
     "name": "stdout",
     "output_type": "stream",
     "text": [
      "32/32 [==============================] - 5s 142ms/step - loss: 0.5222 - acc: 0.7390\n",
      "[0.5221590399742126, 0.7390000224113464]\n"
     ]
    }
   ],
   "source": [
    "best_model = load_model(\"../model/cats_vs_dogs.keras\")\n",
    "\n",
    "acc = best_model.evaluate(test_generator)\n",
    "\n",
    "print(acc)"
   ]
  },
  {
   "cell_type": "markdown",
   "metadata": {},
   "source": [
    "# Conclusiones:\n",
    "\n",
    "Podemos observar como con muy pocas líneas de código y poca optimización y teniendo un modelo simple e intuitivo hemos logrado obtener aproximadamente un 80% de precisión al momento de clasificar entre perros y gatos. Sin embargo, nuestras gráficas de resultados muestran un ligero overfitting, el cual podríamos mejorar con algunas técnicas de normalización que ya hemos visto a lo largo del curso.\n",
    "\n",
    "Este pequeño proyecto nos ha permitido tener el conocimiento de como entrenar a nuestros modelos de CNNs directamente desde datasets de imágenes obtenidas y clasificadas directamente por nosotros, esto nos brida mucha libertad, puesto que en problemas anteriores siempre habíamos utilizado datasets ya existentes de keras, los cuales ya estaban relativamente limpios y listos para su uso.\n"
   ]
  }
 ],
 "metadata": {
  "kernelspec": {
   "display_name": "venv",
   "language": "python",
   "name": "python3"
  },
  "language_info": {
   "codemirror_mode": {
    "name": "ipython",
    "version": 3
   },
   "file_extension": ".py",
   "mimetype": "text/x-python",
   "name": "python",
   "nbconvert_exporter": "python",
   "pygments_lexer": "ipython3",
   "version": "3.11.8"
  }
 },
 "nbformat": 4,
 "nbformat_minor": 2
}
