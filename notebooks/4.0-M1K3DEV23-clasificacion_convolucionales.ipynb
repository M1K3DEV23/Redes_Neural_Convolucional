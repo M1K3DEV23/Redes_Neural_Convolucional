{
 "cells": [
  {
   "cell_type": "markdown",
   "metadata": {},
   "source": [
    "# Clasificación con redes neuronales convolucionales\n"
   ]
  },
  {
   "cell_type": "code",
   "execution_count": 1,
   "metadata": {},
   "outputs": [],
   "source": [
    "%load_ext autoreload\n",
    "%autoreload 1"
   ]
  },
  {
   "cell_type": "code",
   "execution_count": 2,
   "metadata": {},
   "outputs": [],
   "source": [
    "import os\n",
    "import sys\n",
    "\n",
    "sys.path.append(os.path.dirname(os.path.abspath(os.path.abspath(\"\"))))"
   ]
  },
  {
   "cell_type": "markdown",
   "metadata": {},
   "source": [
    "# Resolviendo un problema de clasificacion\n",
    "\n",
    "A lo largo de esta sección repasaremos los conceptos de CNNs aprendidos hasta el momento, creando una red neuronal capas de clasificar entre 10 diferentes tipos de clases. Para ello vamos a utilizar el dataset [CIFAR10](https://keras.io/api/datasets/cifar10/) el cual consta de 50,000 imágenes de 32x32 píxeles a color, para el training set y 10,000 imágenes con las mismas características para el conjunto de pruebas.\n",
    "\n",
    "Las clases disponibles son:\n",
    "\n",
    "| Label |  Description   |\n",
    "| :---: | :------------: |\n",
    "|   0   |  **Airplane**  |\n",
    "|   1   | **Automobile** |\n",
    "|   2   |    **Bird**    |\n",
    "|   3   |    **Cat**     |\n",
    "|   4   |    **Deer**    |\n",
    "|   5   |    **Dog**     |\n",
    "|   6   |    **Frog**    |\n",
    "|   7   |   **Horse**    |\n",
    "|   8   |    **Ship**    |\n",
    "|   9   |   **Truck**    |\n"
   ]
  },
  {
   "cell_type": "markdown",
   "metadata": {},
   "source": [
    "## importamos bibliotecas necesarias:\n"
   ]
  },
  {
   "cell_type": "code",
   "execution_count": 4,
   "metadata": {},
   "outputs": [],
   "source": [
    "import os\n",
    "\n",
    "os.environ[\"TF_CPP_MIN_LOG_LEVEL\"] = \"3\"\n",
    "\n",
    "import matplotlib.pyplot as plt\n",
    "import numpy as np\n",
    "from keras import regularizers\n",
    "from keras.datasets import cifar10\n",
    "from keras.layers import Activation, Conv2D, Dense, Dropout, Flatten, MaxPooling2D\n",
    "from keras.models import Sequential\n",
    "from keras.utils import to_categorical"
   ]
  },
  {
   "cell_type": "markdown",
   "metadata": {},
   "source": [
    "Definimos nuestra función auxiliar para gráficar resultados:\n"
   ]
  },
  {
   "cell_type": "code",
   "execution_count": 6,
   "metadata": {},
   "outputs": [],
   "source": [
    "def plot_result(history_, metric):\n",
    "    history_dict = history_.history\n",
    "    loss_values = history_dict[\"loss\"]\n",
    "    val_loss_values = history_dict[\"val_loss\"]\n",
    "    metric_values = history_dict[metric]\n",
    "    val_metric_values = history_dict[f\"val_{metric}\"]\n",
    "    epoch = range(1, len(loss_values) + 1)\n",
    "\n",
    "    fig, ax = plt.subplots(1, 2, figsize=(8, 5))\n",
    "\n",
    "    fig.suptitle(f\"Neural Network's Result\")\n",
    "    ax[0].set_title(\"Loss function over epochs\")\n",
    "    ax[0].set(ylabel=\"Loss\", xlabel=\"Epochs\")\n",
    "    ax[0].plot(epoch, loss_values, \"o-r\", label=\"Training\")\n",
    "    ax[0].plot(epoch, val_loss_values, \"--\", label=\"Validation\")\n",
    "    ax[0].legend()\n",
    "\n",
    "    ax[1].set_title(f\"{metric} over epochs\")\n",
    "    ax[1].set(ylabel=metric, xlabel=\"Epochs\")\n",
    "    ax[1].plot(epoch, metric_values, \"o-r\", label=\"Training\")\n",
    "    ax[1].plot(epoch, val_metric_values, \"--\", label=\"Validation\")\n",
    "    ax[1].legend()\n",
    "\n",
    "    plt.show()"
   ]
  },
  {
   "cell_type": "markdown",
   "metadata": {},
   "source": [
    "## Descargamos el dataset CIFAR10\n"
   ]
  },
  {
   "cell_type": "code",
   "execution_count": 7,
   "metadata": {},
   "outputs": [
    {
     "name": "stdout",
     "output_type": "stream",
     "text": [
      "Downloading data from https://www.cs.toronto.edu/~kriz/cifar-10-python.tar.gz\n",
      "170498071/170498071 [==============================] - 18s 0us/step\n"
     ]
    }
   ],
   "source": [
    "(X_train, y_train), (X_test, y_test) = cifar10.load_data()"
   ]
  },
  {
   "cell_type": "code",
   "execution_count": 8,
   "metadata": {},
   "outputs": [
    {
     "name": "stdout",
     "output_type": "stream",
     "text": [
      "x_train shape: (50000, 32, 32, 3)\n"
     ]
    }
   ],
   "source": [
    "print(f\"x_train shape: {X_train.shape}\")"
   ]
  },
  {
   "cell_type": "code",
   "execution_count": 12,
   "metadata": {},
   "outputs": [
    {
     "data": {
      "text/plain": [
       "<matplotlib.image.AxesImage at 0x1cf60355510>"
      ]
     },
     "execution_count": 12,
     "metadata": {},
     "output_type": "execute_result"
    },
    {
     "data": {
      "image/png": "[encoded data removed]",
      "text/plain": [
       "<Figure size 640x480 with 1 Axes>"
      ]
     },
     "metadata": {},
     "output_type": "display_data"
    }
   ],
   "source": [
    "plt.imshow(X_train[5])"
   ]
  },
  {
   "cell_type": "markdown",
   "metadata": {},
   "source": [
    "## 3: Limpiamos nuestros datos\n",
    "\n",
    "Como ya sabemos, lo primero que debemos hacer es normalizar la escala de nuestros pixeles de 0-255 a 0-1\n"
   ]
  },
  {
   "cell_type": "code",
   "execution_count": 13,
   "metadata": {},
   "outputs": [],
   "source": [
    "X_train = X_train.astype(\"float32\") / 255\n",
    "X_test = X_test.astype(\"float32\") / 255"
   ]
  },
  {
   "cell_type": "markdown",
   "metadata": {},
   "source": [
    "También sabemos que aunque NO es la única forma de trabajar para clasificación de multiples clases, es una estrategia convertir el label encoding en one hot encoding:\n"
   ]
  },
  {
   "cell_type": "code",
   "execution_count": 14,
   "metadata": {},
   "outputs": [],
   "source": [
    "num_classes = len(np.unique(y_train))\n",
    "y_train = to_categorical(y_train, num_classes)\n",
    "y_test = to_categorical(y_test, num_classes)"
   ]
  },
  {
   "cell_type": "markdown",
   "metadata": {},
   "source": [
    "## 4: Creando particiones de validación\n"
   ]
  },
  {
   "cell_type": "code",
   "execution_count": 16,
   "metadata": {},
   "outputs": [
    {
     "name": "stdout",
     "output_type": "stream",
     "text": [
      "x_train shape: (40000, 32, 32, 3)\n",
      "40000 train samples\n",
      "\n",
      "train:  40000\n",
      "val:  5000\n",
      "test:  10000\n"
     ]
    }
   ],
   "source": [
    "# Creando nuevas particiones de los datos\n",
    "\n",
    "(X_train, X_valid) = X_train[5000:], X_train[:5000]\n",
    "(y_train, y_valid) = y_train[5000:], y_train[:5000]\n",
    "\n",
    "print(f\"x_train shape: {X_train.shape}\")\n",
    "print(f\"{X_train.shape[0]} train samples\\n\")\n",
    "\n",
    "print(\"train: \", X_train.shape[0])\n",
    "print(\"val: \", X_valid.shape[0])\n",
    "print(\"test: \", X_test.shape[0])"
   ]
  },
  {
   "cell_type": "markdown",
   "metadata": {},
   "source": [
    "Podemos observar como ahora contamos con 3 conjuntos de datos, para el set de entrenamiento tenemos 45,000 muestras, de las cuales cada una de ellas tiene una forma de `(32, 32, 3)`. Para el conjunto de validación tenemos **5,000 muestras**y para el conjunto de pruebas **10,000.**\n"
   ]
  },
  {
   "cell_type": "markdown",
   "metadata": {},
   "source": [
    "## Creación de red convolucional para clasificación\n"
   ]
  },
  {
   "cell_type": "markdown",
   "metadata": {},
   "source": [
    "### Definiendo la arquitectura del modelo\n",
    "\n",
    "Para este paso es importante recordar:\n",
    "\n",
    "- Debemos tener presente el shape de las imágenes del dataset.\n",
    "\n",
    "- La cantidad de filtros aplicados en cada capa es arbitrario, pero generalmente conforme más profunda es la capa mayor cantidad de filtros\n",
    "\n",
    "- La capa de `MaxPooling2D` sirve para reducir la complejidad del modelo, al ir reduciendo las dimensiones de la capa.\n",
    "\n",
    "- Utilizar una capa de `DropOut` es una buena idea para reducir el posible overfitting que puede presentar el modelo.\n",
    "\n",
    "- La arquitectura propuesta a continuación NO es una receta de cocina y NO tiene por qué ser la mejor para todos los escenarios, es simplemente una propuesta que sigue la arquitectura básica de cualquier CNN vista en [Arquitectura de una CNN](https://github.com/ichcanziho/Deep_Learnining_Platzi/tree/master/2%20Curso%20de%20Redes%20Neuronales%20Convolucionales)\n"
   ]
  },
  {
   "cell_type": "code",
   "execution_count": 23,
   "metadata": {},
   "outputs": [],
   "source": [
    "def architecture(\n",
    "    base_filtros: int, w_regularized: float, shape: tuple, num_classes: int\n",
    "):\n",
    "    \"\"\"\n",
    "    Definiendo la arquitectura de nuestra CNN\n",
    "    :param base_filtros: Número de filtros que tomara como base la CNN (capas posteriores usaran multiplos de este número)\n",
    "    :param w_regularized: Peso para utilizar por el regularizador L2\n",
    "    :param shape: forma del tensor de entrada (dimensiones de las imágenes de entrenamiento)\n",
    "    :param num_classes: número de clases a clasificar por la CNN\n",
    "    :return: modelo de CNN\n",
    "    \"\"\"\n",
    "\n",
    "    model = Sequential()\n",
    "\n",
    "    # CONV1\n",
    "    model.add(\n",
    "        Conv2D(\n",
    "            filters=base_filtros,\n",
    "            kernel_size=(3, 3),\n",
    "            padding=\"same\",\n",
    "            kernel_regularizer=regularizers.l2(w_regularized),\n",
    "            input_shape=shape,\n",
    "        )\n",
    "    )\n",
    "\n",
    "    model.add(Activation(\"relu\"))\n",
    "\n",
    "    # CONV2\n",
    "    model.add(\n",
    "        Conv2D(\n",
    "            filters=base_filtros,\n",
    "            kernel_size=(3, 3),\n",
    "            padding=\"same\",\n",
    "            kernel_regularizer=regularizers.l2(w_regularized),\n",
    "        )\n",
    "    )\n",
    "\n",
    "    model.add(Activation(\"relu\"))\n",
    "    model.add(MaxPooling2D(pool_size=(2, 2)))\n",
    "    model.add(Dropout(0.2))\n",
    "\n",
    "    # CONV3\n",
    "\n",
    "    model.add(\n",
    "        Conv2D(\n",
    "            filters=base_filtros * 2,\n",
    "            kernel_size=(3, 3),\n",
    "            padding=\"same\",\n",
    "            kernel_regularizer=regularizers.l2(w_regularized),\n",
    "        )\n",
    "    )\n",
    "    model.add(Activation(\"relu\"))\n",
    "    model.add(Dropout(0.2))\n",
    "\n",
    "    # ConV4\n",
    "    model.add(\n",
    "        Conv2D(\n",
    "            filters=base_filtros * 2,\n",
    "            kernel_size=(3, 3),\n",
    "            padding=\"same\",\n",
    "            kernel_regularizer=regularizers.l2(w_regularized),\n",
    "        )\n",
    "    )\n",
    "    model.add(Activation(\"relu\"))\n",
    "    model.add(MaxPooling2D(pool_size=(2, 2)))\n",
    "    model.add(Dropout(0.2))\n",
    "\n",
    "    # CONV5\n",
    "    model.add(\n",
    "        Conv2D(\n",
    "            filters=base_filtros * 4,\n",
    "            kernel_size=(3, 3),\n",
    "            padding=\"same\",\n",
    "            kernel_regularizer=regularizers.l2(w_regularized),\n",
    "        )\n",
    "    )\n",
    "    model.add(Activation(\"relu\"))\n",
    "\n",
    "    # CONV6\n",
    "    model.add(\n",
    "        Conv2D(\n",
    "            filters=base_filtros * 4,\n",
    "            kernel_size=(3, 3),\n",
    "            padding=\"same\",\n",
    "            kernel_regularizer=regularizers.l2(w_regularized),\n",
    "        )\n",
    "    )\n",
    "    model.add(Activation(\"relu\"))\n",
    "    model.add(MaxPooling2D(pool_size=(2, 2)))\n",
    "    model.add(Dropout(0.4))\n",
    "\n",
    "    # Flatten\n",
    "    model.add(Flatten())\n",
    "\n",
    "    # Capa de clasificación\n",
    "    model.add(Dense(units=num_classes, activation=\"softmax\"))\n",
    "    print(model.summary())\n",
    "\n",
    "    return model"
   ]
  },
  {
   "cell_type": "markdown",
   "metadata": {},
   "source": [
    "### Entrenamiento de un modelo de clasificación con redes convolucionales\n"
   ]
  },
  {
   "cell_type": "markdown",
   "metadata": {},
   "source": [
    "#### Creando el modelo\n"
   ]
  },
  {
   "cell_type": "code",
   "execution_count": 24,
   "metadata": {},
   "outputs": [
    {
     "name": "stdout",
     "output_type": "stream",
     "text": [
      "WARNING:tensorflow:From c:\\Users\\mike\\Desktop\\redes_convolucionales\\venv\\Lib\\site-packages\\keras\\src\\layers\\pooling\\max_pooling2d.py:161: The name tf.nn.max_pool is deprecated. Please use tf.nn.max_pool2d instead.\n",
      "\n",
      "Model: \"sequential_1\"\n",
      "_________________________________________________________________\n",
      " Layer (type)                Output Shape              Param #   \n",
      "=================================================================\n",
      " conv2d (Conv2D)             (None, 32, 32, 32)        896       \n",
      "                                                                 \n",
      " activation (Activation)     (None, 32, 32, 32)        0         \n",
      "                                                                 \n",
      " conv2d_1 (Conv2D)           (None, 32, 32, 32)        9248      \n",
      "                                                                 \n",
      " activation_1 (Activation)   (None, 32, 32, 32)        0         \n",
      "                                                                 \n",
      " max_pooling2d (MaxPooling2  (None, 16, 16, 32)        0         \n",
      " D)                                                              \n",
      "                                                                 \n",
      " dropout (Dropout)           (None, 16, 16, 32)        0         \n",
      "                                                                 \n",
      " conv2d_2 (Conv2D)           (None, 16, 16, 64)        18496     \n",
      "                                                                 \n",
      " activation_2 (Activation)   (None, 16, 16, 64)        0         \n",
      "                                                                 \n",
      " dropout_1 (Dropout)         (None, 16, 16, 64)        0         \n",
      "                                                                 \n",
      " conv2d_3 (Conv2D)           (None, 16, 16, 64)        36928     \n",
      "                                                                 \n",
      " activation_3 (Activation)   (None, 16, 16, 64)        0         \n",
      "                                                                 \n",
      " max_pooling2d_1 (MaxPoolin  (None, 8, 8, 64)          0         \n",
      " g2D)                                                            \n",
      "                                                                 \n",
      " dropout_2 (Dropout)         (None, 8, 8, 64)          0         \n",
      "                                                                 \n",
      " conv2d_4 (Conv2D)           (None, 8, 8, 128)         73856     \n",
      "                                                                 \n",
      " activation_4 (Activation)   (None, 8, 8, 128)         0         \n",
      "                                                                 \n",
      " conv2d_5 (Conv2D)           (None, 8, 8, 128)         147584    \n",
      "                                                                 \n",
      " activation_5 (Activation)   (None, 8, 8, 128)         0         \n",
      "                                                                 \n",
      " max_pooling2d_2 (MaxPoolin  (None, 4, 4, 128)         0         \n",
      " g2D)                                                            \n",
      "                                                                 \n",
      " dropout_3 (Dropout)         (None, 4, 4, 128)         0         \n",
      "                                                                 \n",
      " flatten (Flatten)           (None, 2048)              0         \n",
      "                                                                 \n",
      " dense (Dense)               (None, 10)                20490     \n",
      "                                                                 \n",
      "=================================================================\n",
      "Total params: 307498 (1.17 MB)\n",
      "Trainable params: 307498 (1.17 MB)\n",
      "Non-trainable params: 0 (0.00 Byte)\n",
      "_________________________________________________________________\n",
      "None\n"
     ]
    }
   ],
   "source": [
    "md = architecture(\n",
    "    base_filtros=32, w_regularized=1e-4, shape=X_train[0].shape, num_classes=num_classes\n",
    ")"
   ]
  },
  {
   "cell_type": "markdown",
   "metadata": {},
   "source": [
    "#### Compilamos el modelo\n"
   ]
  },
  {
   "cell_type": "code",
   "execution_count": 25,
   "metadata": {},
   "outputs": [
    {
     "name": "stdout",
     "output_type": "stream",
     "text": [
      "WARNING:tensorflow:From c:\\Users\\mike\\Desktop\\redes_convolucionales\\venv\\Lib\\site-packages\\keras\\src\\optimizers\\__init__.py:309: The name tf.train.Optimizer is deprecated. Please use tf.compat.v1.train.Optimizer instead.\n",
      "\n"
     ]
    }
   ],
   "source": [
    "md.compile(optimizer=\"rmsprop\", loss=\"categorical_crossentropy\", metrics=[\"accuracy\"])"
   ]
  },
  {
   "cell_type": "markdown",
   "metadata": {},
   "source": [
    "#### Entrenamos el modelo\n"
   ]
  },
  {
   "cell_type": "markdown",
   "metadata": {},
   "source": [
    "![Diagrama de batch SIZE](../data/diagrama-batch.png)\n"
   ]
  },
  {
   "cell_type": "code",
   "execution_count": 29,
   "metadata": {},
   "outputs": [
    {
     "name": "stdout",
     "output_type": "stream",
     "text": [
      "Epoch 1/50\n",
      "2500/2500 [==============================] - 30s 12ms/step - loss: 0.8485 - accuracy: 0.7566 - val_loss: 0.8395 - val_accuracy: 0.7602\n",
      "Epoch 2/50\n",
      "2500/2500 [==============================] - 29s 12ms/step - loss: 0.9155 - accuracy: 0.7405 - val_loss: 0.8430 - val_accuracy: 0.7654\n",
      "Epoch 3/50\n",
      "2500/2500 [==============================] - 29s 12ms/step - loss: 0.9529 - accuracy: 0.7306 - val_loss: 0.9875 - val_accuracy: 0.7214\n",
      "Epoch 4/50\n",
      "2500/2500 [==============================] - 29s 12ms/step - loss: 0.9698 - accuracy: 0.7285 - val_loss: 0.9358 - val_accuracy: 0.7454\n",
      "Epoch 5/50\n",
      "2500/2500 [==============================] - 29s 12ms/step - loss: 0.9872 - accuracy: 0.7254 - val_loss: 0.9181 - val_accuracy: 0.7452\n",
      "Epoch 6/50\n",
      "2500/2500 [==============================] - 30s 12ms/step - loss: 1.0030 - accuracy: 0.7171 - val_loss: 0.8996 - val_accuracy: 0.7450\n",
      "Epoch 7/50\n",
      "2500/2500 [==============================] - 30s 12ms/step - loss: 1.0073 - accuracy: 0.7173 - val_loss: 1.0218 - val_accuracy: 0.7124\n",
      "Epoch 8/50\n",
      "2500/2500 [==============================] - 30s 12ms/step - loss: 1.0206 - accuracy: 0.7110 - val_loss: 0.8455 - val_accuracy: 0.7638\n",
      "Epoch 9/50\n",
      "2500/2500 [==============================] - 30s 12ms/step - loss: 1.0376 - accuracy: 0.7059 - val_loss: 0.8953 - val_accuracy: 0.7478\n",
      "Epoch 10/50\n",
      "2500/2500 [==============================] - 30s 12ms/step - loss: 1.0467 - accuracy: 0.7036 - val_loss: 1.1094 - val_accuracy: 0.7160\n",
      "Epoch 11/50\n",
      "2500/2500 [==============================] - 30s 12ms/step - loss: 1.0536 - accuracy: 0.7012 - val_loss: 0.9161 - val_accuracy: 0.7354\n",
      "Epoch 12/50\n",
      "2500/2500 [==============================] - 30s 12ms/step - loss: 1.0734 - accuracy: 0.6937 - val_loss: 1.0695 - val_accuracy: 0.7022\n",
      "Epoch 13/50\n",
      "2500/2500 [==============================] - 30s 12ms/step - loss: 1.0818 - accuracy: 0.6905 - val_loss: 0.8698 - val_accuracy: 0.7522\n",
      "Epoch 14/50\n",
      "2500/2500 [==============================] - 30s 12ms/step - loss: 1.0881 - accuracy: 0.6880 - val_loss: 1.0708 - val_accuracy: 0.6936\n",
      "Epoch 15/50\n",
      "2500/2500 [==============================] - 30s 12ms/step - loss: 1.0854 - accuracy: 0.6912 - val_loss: 0.9389 - val_accuracy: 0.7278\n",
      "Epoch 16/50\n",
      "2500/2500 [==============================] - 30s 12ms/step - loss: 1.0957 - accuracy: 0.6896 - val_loss: 0.9020 - val_accuracy: 0.7424\n",
      "Epoch 17/50\n",
      "2500/2500 [==============================] - 30s 12ms/step - loss: 1.1117 - accuracy: 0.6846 - val_loss: 1.0477 - val_accuracy: 0.6998\n",
      "Epoch 18/50\n",
      "2500/2500 [==============================] - 30s 12ms/step - loss: 1.1211 - accuracy: 0.6818 - val_loss: 0.9656 - val_accuracy: 0.7166\n",
      "Epoch 19/50\n",
      "2500/2500 [==============================] - 30s 12ms/step - loss: 1.1317 - accuracy: 0.6783 - val_loss: 1.0211 - val_accuracy: 0.7092\n",
      "Epoch 20/50\n",
      "2500/2500 [==============================] - 30s 12ms/step - loss: 1.1523 - accuracy: 0.6722 - val_loss: 1.2050 - val_accuracy: 0.6362\n",
      "Epoch 21/50\n",
      "2500/2500 [==============================] - 30s 12ms/step - loss: 1.1521 - accuracy: 0.6680 - val_loss: 1.0084 - val_accuracy: 0.7058\n",
      "Epoch 22/50\n",
      "2500/2500 [==============================] - 28s 11ms/step - loss: 1.1742 - accuracy: 0.6648 - val_loss: 0.9851 - val_accuracy: 0.7276\n",
      "Epoch 23/50\n",
      "2500/2500 [==============================] - 30s 12ms/step - loss: 1.1840 - accuracy: 0.6623 - val_loss: 1.0586 - val_accuracy: 0.7060\n",
      "Epoch 24/50\n",
      "2500/2500 [==============================] - 29s 11ms/step - loss: 1.1932 - accuracy: 0.6571 - val_loss: 1.1047 - val_accuracy: 0.6606\n",
      "Epoch 25/50\n",
      "2500/2500 [==============================] - 29s 11ms/step - loss: 1.1998 - accuracy: 0.6538 - val_loss: 0.9448 - val_accuracy: 0.7280\n",
      "Epoch 26/50\n",
      "2500/2500 [==============================] - 29s 11ms/step - loss: 1.2340 - accuracy: 0.6443 - val_loss: 1.2165 - val_accuracy: 0.6382\n",
      "Epoch 27/50\n",
      "2500/2500 [==============================] - 30s 12ms/step - loss: 1.2558 - accuracy: 0.6396 - val_loss: 1.0145 - val_accuracy: 0.7028\n",
      "Epoch 28/50\n",
      "2500/2500 [==============================] - 31s 12ms/step - loss: 1.2919 - accuracy: 0.6262 - val_loss: 1.1032 - val_accuracy: 0.6630\n",
      "Epoch 29/50\n",
      "2500/2500 [==============================] - 30s 12ms/step - loss: 1.3114 - accuracy: 0.6221 - val_loss: 1.1022 - val_accuracy: 0.6842\n",
      "Epoch 30/50\n",
      "2500/2500 [==============================] - 29s 12ms/step - loss: 1.3236 - accuracy: 0.6170 - val_loss: 1.2340 - val_accuracy: 0.6138\n",
      "Epoch 31/50\n",
      "2500/2500 [==============================] - 29s 12ms/step - loss: 1.3479 - accuracy: 0.6129 - val_loss: 1.2065 - val_accuracy: 0.6426\n",
      "Epoch 32/50\n",
      "2500/2500 [==============================] - 29s 12ms/step - loss: 1.3601 - accuracy: 0.6046 - val_loss: 1.2142 - val_accuracy: 0.6304\n",
      "Epoch 33/50\n",
      "2500/2500 [==============================] - 29s 12ms/step - loss: 1.3705 - accuracy: 0.6032 - val_loss: 1.0902 - val_accuracy: 0.6702\n",
      "Epoch 34/50\n",
      "2500/2500 [==============================] - 29s 12ms/step - loss: 1.4011 - accuracy: 0.5945 - val_loss: 1.0941 - val_accuracy: 0.6798\n",
      "Epoch 35/50\n",
      "2500/2500 [==============================] - 29s 12ms/step - loss: 1.4290 - accuracy: 0.5837 - val_loss: 1.3247 - val_accuracy: 0.5922\n",
      "Epoch 36/50\n",
      "2500/2500 [==============================] - 29s 12ms/step - loss: 1.4552 - accuracy: 0.5772 - val_loss: 1.3051 - val_accuracy: 0.5982\n",
      "Epoch 37/50\n",
      "2500/2500 [==============================] - 29s 12ms/step - loss: 1.4922 - accuracy: 0.5642 - val_loss: 1.3633 - val_accuracy: 0.5824\n",
      "Epoch 38/50\n",
      "2500/2500 [==============================] - 29s 12ms/step - loss: 1.5471 - accuracy: 0.5474 - val_loss: 1.5528 - val_accuracy: 0.5610\n",
      "Epoch 39/50\n",
      "2500/2500 [==============================] - 29s 12ms/step - loss: 1.5799 - accuracy: 0.5336 - val_loss: 1.5551 - val_accuracy: 0.5294\n",
      "Epoch 40/50\n",
      "2500/2500 [==============================] - 29s 12ms/step - loss: 1.6029 - accuracy: 0.5236 - val_loss: 1.6095 - val_accuracy: 0.4914\n",
      "Epoch 41/50\n",
      "2500/2500 [==============================] - 29s 12ms/step - loss: 1.6360 - accuracy: 0.5175 - val_loss: 1.4641 - val_accuracy: 0.5662\n",
      "Epoch 42/50\n",
      "2500/2500 [==============================] - 29s 12ms/step - loss: 1.6639 - accuracy: 0.5048 - val_loss: 1.3495 - val_accuracy: 0.5730\n",
      "Epoch 43/50\n",
      "2500/2500 [==============================] - 29s 12ms/step - loss: 1.7116 - accuracy: 0.4880 - val_loss: 2.3502 - val_accuracy: 0.4718\n",
      "Epoch 44/50\n",
      "2500/2500 [==============================] - 29s 12ms/step - loss: 1.7323 - accuracy: 0.4773 - val_loss: 1.4682 - val_accuracy: 0.5176\n",
      "Epoch 45/50\n",
      "2500/2500 [==============================] - 29s 12ms/step - loss: 1.7155 - accuracy: 0.4761 - val_loss: 1.3591 - val_accuracy: 0.5662\n",
      "Epoch 46/50\n",
      "2500/2500 [==============================] - 29s 12ms/step - loss: 1.7276 - accuracy: 0.4681 - val_loss: 1.6130 - val_accuracy: 0.4628\n",
      "Epoch 47/50\n",
      "2500/2500 [==============================] - 29s 12ms/step - loss: 1.7170 - accuracy: 0.4709 - val_loss: 1.5094 - val_accuracy: 0.5236\n",
      "Epoch 48/50\n",
      "2500/2500 [==============================] - 29s 12ms/step - loss: 1.7269 - accuracy: 0.4658 - val_loss: 1.3815 - val_accuracy: 0.5534\n",
      "Epoch 49/50\n",
      "2500/2500 [==============================] - 29s 12ms/step - loss: 1.7316 - accuracy: 0.4640 - val_loss: 1.4550 - val_accuracy: 0.5406\n",
      "Epoch 50/50\n",
      "2500/2500 [==============================] - 29s 12ms/step - loss: 1.7385 - accuracy: 0.4584 - val_loss: 1.5701 - val_accuracy: 0.5118\n"
     ]
    }
   ],
   "source": [
    "history = md.fit(\n",
    "    X_train,\n",
    "    y_train,\n",
    "    batch_size=128,\n",
    "    epochs=15,\n",
    "    validation_data=(X_valid, y_valid),\n",
    "    shuffle=True,\n",
    ")"
   ]
  },
  {
   "cell_type": "markdown",
   "metadata": {},
   "source": [
    "#### Análisis de resultados\n"
   ]
  },
  {
   "cell_type": "code",
   "execution_count": 30,
   "metadata": {},
   "outputs": [
    {
     "data": {
      "image/png": "[encoded data removed]",
      "text/plain": [
       "<Figure size 800x500 with 2 Axes>"
      ]
     },
     "metadata": {},
     "output_type": "display_data"
    },
    {
     "name": "stdout",
     "output_type": "stream",
     "text": [
      "313/313 [==============================] - 2s 6ms/step - loss: 1.5400 - accuracy: 0.5112\n"
     ]
    },
    {
     "data": {
      "text/plain": [
       "[1.5399712324142456, 0.5112000107765198]"
      ]
     },
     "execution_count": 30,
     "metadata": {},
     "output_type": "execute_result"
    }
   ],
   "source": [
    "plot_result(history, \"accuracy\")\n",
    "md.evaluate(X_test, y_test)"
   ]
  },
  {
   "cell_type": "markdown",
   "metadata": {},
   "source": [
    "Hemos tenido muy buenos resultados, sin embargo, más adelante veremos más técnicas que podemos utilizar con el objetivo de optimizar este resultado.\n"
   ]
  }
 ],
 "metadata": {
  "kernelspec": {
   "display_name": "venv",
   "language": "python",
   "name": "python3"
  },
  "language_info": {
   "codemirror_mode": {
    "name": "ipython",
    "version": 3
   },
   "file_extension": ".py",
   "mimetype": "text/x-python",
   "name": "python",
   "nbconvert_exporter": "python",
   "pygments_lexer": "ipython3",
   "version": "3.11.8"
  }
 },
 "nbformat": 4,
 "nbformat_minor": 2
}
